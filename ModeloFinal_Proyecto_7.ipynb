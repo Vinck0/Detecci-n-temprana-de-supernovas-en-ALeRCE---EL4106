{
  "cells": [
    {
      "cell_type": "code",
      "execution_count": null,
      "metadata": {
        "colab": {
          "base_uri": "https://localhost:8080/"
        },
        "id": "k7W3zDrz3sy5",
        "outputId": "1cc08e6f-5406-4462-ae36-56b92f438e3b"
      },
      "outputs": [
        {
          "name": "stdout",
          "output_type": "stream",
          "text": [
            "Drive already mounted at /content/drive; to attempt to forcibly remount, call drive.mount(\"/content/drive\", force_remount=True).\n"
          ]
        }
      ],
      "source": [
        "from google.colab import drive\n",
        "drive.mount('/content/drive')"
      ],
      "id": "k7W3zDrz3sy5"
    },
    {
      "cell_type": "code",
      "execution_count": null,
      "metadata": {
        "id": "utjF61Eki2vt"
      },
      "outputs": [],
      "source": [
        "# from google.colab import files\n",
        "# uploaded= files.upload()"
      ],
      "id": "utjF61Eki2vt"
    },
    {
      "cell_type": "code",
      "execution_count": null,
      "metadata": {
        "id": "12047dee"
      },
      "outputs": [],
      "source": [
        "#archivo pkl\n",
        "\n",
        "import pickle\n",
        "import numpy as np\n",
        "import seaborn as sns\n",
        "import pandas as pd\n",
        "import matplotlib.pyplot as plt\n",
        "import tensorflow as tf\n",
        "from tensorflow import keras\n",
        "from tensorflow.keras import preprocessing\n",
        "from tensorflow.keras import models,layers\n",
        "from sklearn.model_selection import train_test_split\n",
        "from sklearn.metrics import precision_recall_fscore_support as score\n",
        "from sklearn.metrics import accuracy_score\n",
        "from sklearn.metrics import confusion_matrix\n",
        "from sklearn import preprocessing\n",
        "import matplotlib.gridspec as gridspec\n",
        "from sklearn.metrics import roc_curve, auc, accuracy_score, confusion_matrix,  precision_score\n",
        "from sklearn.utils.multiclass import unique_labels\n",
        "from sklearn.preprocessing import (OneHotEncoder, label_binarize, LabelEncoder )\n",
        "import collections\n",
        "import time\n",
        "from keras.layers import (Conv1D, MaxPool1D, Dropout, Flatten, Dense,\n",
        "                          Input, concatenate,Reshape)\n",
        "\n",
        "from keras.models import Model, Sequential\n",
        "\n",
        "#cargar archivos dataset (es como dataset mnist)\n",
        "with open('/content/drive/MyDrive/u/Colab Notebooks/New inteligence/Alerce/Copia de ALERCE_stamps_2020.pkl', 'rb') as f:\n",
        "    data = pickle.load(f)\n",
        "# with open('/content/drive/MyDrive/u/Colab Notebooks/New inteligence/Alerce/preproc.txt.npy', 'rb') as g:\n",
        "#     images_dataset_pre_proc_2 = np.load(g)\n"
      ],
      "id": "12047dee"
    },
    {
      "cell_type": "code",
      "execution_count": null,
      "metadata": {
        "id": "xZay6Zk9fBYq"
      },
      "outputs": [],
      "source": [
        "images, labels, metadata = list(data.values())"
      ],
      "id": "xZay6Zk9fBYq"
    },
    {
      "cell_type": "markdown",
      "metadata": {
        "id": "d60dfa04"
      },
      "source": [
        "Alert Classification for the ALeRCE Broker System: The Real-time Stamp Classier\n",
        "\n",
        "\"The alert packet contains three images called stamps, which are cropped at 63 pixels on a side (1 pixel = 1 arcsec) from the original image and centered on the position of the source.\""
      ],
      "id": "d60dfa04"
    },
    {
      "cell_type": "code",
      "execution_count": null,
      "metadata": {
        "id": "f0689184"
      },
      "outputs": [],
      "source": [
        "#convertimos el diccionario a array\n",
        "images_dataset = np.array(images,dtype=object)\n",
        "labels_dataset = np.array(labels)\n",
        "metdat_dataset = np.array(metadata)\n",
        "data_keys = np.array(list(data))"
      ],
      "id": "f0689184"
    },
    {
      "cell_type": "code",
      "execution_count": null,
      "metadata": {
        "id": "7uwBJjyWCeBa"
      },
      "outputs": [],
      "source": [
        "#plot distribution metadata\n",
        "#all images\n",
        "metadata_keys = ['sgscore1', 'distpsnr1', 'sgscore2', 'distpsnr2', 'sgscore3',\n",
        "   'distpsnr3', 'isdiffpos', 'fwhm', 'magpsf', 'sigmapsf',\n",
        "   'ra', 'dec', 'diffmaglim', 'classtar', 'ndethist',\n",
        "   'ncovhist', 'ecl_lat', 'ecl_long', 'gal_lat', 'gal_long',\n",
        "   'non_detections', \"chinr\", \"sharpnr\"]"
      ],
      "id": "7uwBJjyWCeBa"
    },
    {
      "cell_type": "code",
      "execution_count": null,
      "metadata": {
        "id": "1N1415rP2gFt"
      },
      "outputs": [],
      "source": [
        "scaler= preprocessing.StandardScaler()"
      ],
      "id": "1N1415rP2gFt"
    },
    {
      "cell_type": "code",
      "execution_count": null,
      "metadata": {
        "id": "cFbHUm_58Nu8"
      },
      "outputs": [],
      "source": [
        "metadatapd= pd.DataFrame(metdat_dataset,columns=metadata_keys)"
      ],
      "id": "cFbHUm_58Nu8"
    },
    {
      "cell_type": "code",
      "execution_count": null,
      "metadata": {
        "id": "xQvkxnhk-BpU"
      },
      "outputs": [],
      "source": [
        "# Define limites speriores e inferiores. Mismo orden que como estan las clases.\n",
        "upper_limits = [None, None, None, None, None, None, None, 25  , None, None, None, None,  None, None,  200,  2100, None,    None, \n",
        "                None,    None,  2100,    None, None]\n",
        "\n",
        "lower_limits = [-1,   -1,   -1,   -1,   -1,   -1,   None, None, None, None, None, None,  None, None,  None, None, None,   None, \n",
        "                None,    None,  None,    -1,   -1]\n"
      ],
      "id": "xQvkxnhk-BpU"
    },
    {
      "cell_type": "markdown",
      "metadata": {
        "id": "uTjjXm1FGlKg"
      },
      "source": [
        "Queda propuesto modificar outliers por clase, para mejor desempeño."
      ],
      "id": "uTjjXm1FGlKg"
    },
    {
      "cell_type": "code",
      "execution_count": null,
      "metadata": {
        "id": "P71ZTwpp83t9"
      },
      "outputs": [],
      "source": [
        "metadatapd_limits = metadatapd.copy()\n",
        "for i in range(len(metadata_keys)):\n",
        "  metadatapd_limits[metadata_keys[i]].clip(lower=lower_limits[i], upper=upper_limits[i], inplace=True)"
      ],
      "id": "P71ZTwpp83t9"
    },
    {
      "cell_type": "code",
      "execution_count": null,
      "metadata": {
        "id": "Fsr7NUYb9ot6"
      },
      "outputs": [],
      "source": [
        "# Se normalizan los datos mediante StandardScaler.\n",
        "# Entrega array que puede ser util para pasar a tensor y/o para usar en entrenamiento\n",
        "metadatapd_normalized = scaler.fit_transform(metadatapd_limits)"
      ],
      "id": "Fsr7NUYb9ot6"
    },
    {
      "cell_type": "code",
      "execution_count": null,
      "metadata": {
        "id": "Y8QLMcJQBJGM"
      },
      "outputs": [],
      "source": [
        "metadatapd_normalized_pd = pd.DataFrame(metadatapd_normalized,columns=metadata_keys)"
      ],
      "id": "Y8QLMcJQBJGM"
    },
    {
      "cell_type": "code",
      "execution_count": null,
      "metadata": {
        "id": "P4EwejYoDWMm"
      },
      "outputs": [],
      "source": [
        "\n",
        "def center_crop(img, new_width=41, new_height=41):        \n",
        "\n",
        "    width = img.shape[1]\n",
        "    height = img.shape[0]\n",
        "\n",
        "    if new_width is None:\n",
        "        new_width = min(width, height)\n",
        "\n",
        "    if new_height is None:\n",
        "        new_height = min(width, height)\n",
        "\n",
        "    left = int(np.ceil((width - new_width) / 2))\n",
        "    right = width - int(np.floor((width - new_width) / 2))\n",
        "\n",
        "    top = int(np.ceil((height - new_height) / 2))\n",
        "    bottom = height - int(np.floor((height - new_height) / 2))\n",
        "\n",
        "    if len(img.shape) == 2:\n",
        "        center_cropped_img = img[top:bottom, left:right]\n",
        "    else:\n",
        "        center_cropped_img = img[top:bottom, left:right, ...]\n",
        "\n",
        "    return center_cropped_img\n"
      ],
      "id": "P4EwejYoDWMm"
    },
    {
      "cell_type": "code",
      "execution_count": null,
      "metadata": {
        "colab": {
          "base_uri": "https://localhost:8080/"
        },
        "id": "B8bvCw_RFpG1",
        "outputId": "efeedbb6-9e2d-4e3f-c548-305b86af162e"
      },
      "outputs": [
        {
          "name": "stdout",
          "output_type": "stream",
          "text": [
            "(52244, 24, 24, 3)\n",
            "Tiempo de preprocesamiento: 40.39600586891174[s]\n"
          ]
        }
      ],
      "source": [
        "t_i_preproc= time.time()\n",
        "\n",
        "scalerMinMax = preprocessing.MinMaxScaler(feature_range=(-1,1))\n",
        "# tamaño final que se corta la imagen\n",
        "img_crop = 24 #41\n",
        "images_dataset_pre_proc_2 = np.zeros((52244,img_crop,img_crop,3))\n",
        "\n",
        "img_shape = (img_crop,img_crop,3)\n",
        "\n",
        "# Se normalizan las imagenes y se recortan todos los valores y se transforman los valores nan a 0.\n",
        "\n",
        "# Se aplica la transformacion a cada canal independiendte\n",
        "# https://stackoverflow.com/questions/37751717/why-does-minmaxscaler-add-lines-to-image\n",
        "for i in range(52243):\n",
        "  images_dataset_pre_proc_2[i] = scalerMinMax.fit_transform(np.array([np.nan_to_num(center_crop(\n",
        "      images_dataset[i][:,:,0],new_width=img_crop, new_height=img_crop), copy=True, nan=0.0),\n",
        "      np.nan_to_num(center_crop(images_dataset[i][:,:,1],new_width=img_crop, new_height=img_crop), copy=True, nan=0.0),\n",
        "      np.nan_to_num(center_crop(images_dataset[i][:,:,2],new_width=img_crop, new_height=img_crop), copy=True, nan=0.0)]\n",
        "      ).T.reshape(-1,3)).reshape(img_shape)\n",
        "  \n",
        "t_f_preproc= time.time()\n",
        "print(images_dataset_pre_proc_2.shape)\n",
        "print(f'Tiempo de preprocesamiento: {t_f_preproc-t_i_preproc}[s]')"
      ],
      "id": "B8bvCw_RFpG1"
    },
    {
      "cell_type": "code",
      "execution_count": null,
      "metadata": {
        "colab": {
          "base_uri": "https://localhost:8080/"
        },
        "id": "DTL-aHNYUOjl",
        "outputId": "44e474e3-07b1-49b7-dc07-e81372b6bf93"
      },
      "outputs": [
        {
          "name": "stdout",
          "output_type": "stream",
          "text": [
            "(24, 24, 3)\n"
          ]
        }
      ],
      "source": [
        "print(images_dataset_pre_proc_2[1].shape)"
      ],
      "id": "DTL-aHNYUOjl"
    },
    {
      "cell_type": "code",
      "execution_count": null,
      "metadata": {
        "id": "jzODvfY4Rjkh"
      },
      "outputs": [],
      "source": [
        "# Se obtienen los sets de entrenamiento, validación y prueba de imagenes\n",
        "X_train, X_test, y_train, y_test = \\\n",
        "            train_test_split(images_dataset_pre_proc_2, labels_dataset, test_size=0.2, random_state=4106,stratify=labels_dataset)\n",
        "\n",
        "X_train, X_val, y_train, y_val = \\\n",
        "            train_test_split(X_train, y_train, test_size=0.25, random_state=4106,stratify=y_train) # 0.25 x 0.8 = 0.2"
      ],
      "id": "jzODvfY4Rjkh"
    },
    {
      "cell_type": "code",
      "execution_count": null,
      "metadata": {
        "colab": {
          "base_uri": "https://localhost:8080/"
        },
        "id": "WfPu6p3jWb_F",
        "outputId": "bae26f28-bfc2-4182-ffc6-78e95f219cb2"
      },
      "outputs": [
        {
          "name": "stdout",
          "output_type": "stream",
          "text": [
            "Clase 0: 14966. Clase 1: 1620. Clase 2: 14996. Clase 3: 9899. Clase 4: 10763\n",
            "52244\n"
          ]
        }
      ],
      "source": [
        "print(f'Clase 0: {sum(labels_dataset == 0)}. Clase 1: {sum(labels_dataset == 1)}. Clase 2: {sum(labels_dataset == 2)}. Clase 3: {sum(labels_dataset == 3)}. Clase 4: {sum(labels_dataset == 4)}')\n",
        "print(sum(labels_dataset == 0)+sum(labels_dataset == 1)+sum(labels_dataset == 2)+sum(labels_dataset == 3)+sum(labels_dataset == 4))"
      ],
      "id": "WfPu6p3jWb_F"
    },
    {
      "cell_type": "code",
      "execution_count": null,
      "metadata": {
        "colab": {
          "base_uri": "https://localhost:8080/"
        },
        "id": "ayDL-ZEFQm9X",
        "outputId": "3182b380-a00e-4165-c16e-f7fc24df5a56"
      },
      "outputs": [
        {
          "name": "stdout",
          "output_type": "stream",
          "text": [
            "TRAIN: Clase 0: 8980. Clase 1: 972. Clase 2: 8998. Clase 3: 5939. Clase 4: 6457\n",
            "31346\n",
            "VALIDATION: Clase 0: 2993. Clase 1: 324. Clase 2: 2999. Clase 3: 1980. Clase 4: 2153\n",
            "10449\n",
            "TEST: Clase 0: 2993. Clase 1: 324. Clase 2: 2999. Clase 3: 1980. Clase 4: 2153\n",
            "10449\n"
          ]
        }
      ],
      "source": [
        "print(f'TRAIN: Clase 0: {sum(y_train == 0)}. Clase 1: {sum(y_train == 1)}. Clase 2: {sum(y_train == 2)}. Clase 3: {sum(y_train == 3)}. Clase 4: {sum(y_train == 4)}')\n",
        "print(sum(y_train == 0)+sum(y_train == 1)+sum(y_train == 2)+sum(y_train == 3)+sum(y_train == 4))\n",
        "\n",
        "print(f'VALIDATION: Clase 0: {sum(y_val == 0)}. Clase 1: {sum(y_val == 1)}. Clase 2: {sum(y_val == 2)}. Clase 3: {sum(y_val == 3)}. Clase 4: {sum(y_val == 4)}')\n",
        "print(sum(y_val == 0)+sum(y_val == 1)+sum(y_val == 2)+sum(y_val == 3)+sum(y_val == 4))\n",
        "\n",
        "print(f'TEST: Clase 0: {sum(y_test == 0)}. Clase 1: {sum(y_test == 1)}. Clase 2: {sum(y_test == 2)}. Clase 3: {sum(y_test == 3)}. Clase 4: {sum(y_test == 4)}')\n",
        "print(sum(y_test == 0)+sum(y_test == 1)+sum(y_test == 2)+sum(y_test == 3)+sum(y_test == 4))"
      ],
      "id": "ayDL-ZEFQm9X"
    },
    {
      "cell_type": "code",
      "execution_count": null,
      "metadata": {
        "id": "IvAyZ4gKT0WI"
      },
      "outputs": [],
      "source": [
        "# Se obtiene array de metadata\n",
        "data_metadata = np.asarray(metadatapd_limits).astype('float32')\n",
        "data_umap = False\n",
        "data_tnse = False\n",
        "if data_umap:\n",
        "  reducer = umap.UMAP(n_neighbors=20 , n_components=10, learning_rate=1, min_dist=0.0125, random_state=4106)\n",
        "  data_metadata = reducer.fit_transform(np.asarray(metadatapd_limits).astype('float32'))\n",
        "if (not data_umap) and data_tnse:\n",
        "  t_sne = TSNE(n_components=2, perplexity=30, learning_rate=400, random_state=4106)\n",
        "  data_metadata = t_sne.fit_transform(np.asarray(metadatapd_limits).astype('float32'))\n"
      ],
      "id": "IvAyZ4gKT0WI"
    },
    {
      "cell_type": "code",
      "execution_count": null,
      "metadata": {
        "id": "UaXodKLiruQ5"
      },
      "outputs": [],
      "source": [
        "# Se obtienen los sets de entrenamiento, validación y prueba de la metadata\n",
        "X_train_metadata, X_test_metadata, y_train_metadata, y_test_metadata = \\\n",
        "            train_test_split(data_metadata, labels_dataset, test_size=0.2,\n",
        "                             random_state=4106, stratify=labels_dataset)\n",
        "\n",
        "X_train_metadata, X_val_metadata, y_train_metadata, y_val_metadata = \\\n",
        "            train_test_split(X_train_metadata, y_train_metadata, test_size=0.25, random_state=4106, stratify=y_train_metadata) # 0.25 x 0.8 = 0.2"
      ],
      "id": "UaXodKLiruQ5"
    },
    {
      "cell_type": "code",
      "execution_count": null,
      "metadata": {
        "id": "ctNcJbe1dLId"
      },
      "outputs": [],
      "source": [
        "assert (y_train == y_train_metadata).all\n",
        "assert (y_val == y_val_metadata).all\n",
        "assert (y_test == y_test_metadata).all"
      ],
      "id": "ctNcJbe1dLId"
    },
    {
      "cell_type": "code",
      "execution_count": null,
      "metadata": {
        "id": "05qG-831NHPg"
      },
      "outputs": [],
      "source": [
        "# Se escala los metadatos\n",
        "X_train_metadata = scaler.fit_transform(X_train_metadata)\n",
        "X_val_metadata = scaler.transform(X_val_metadata)\n",
        "X_test_metadata = scaler.transform(X_test_metadata)"
      ],
      "id": "05qG-831NHPg"
    },
    {
      "cell_type": "code",
      "execution_count": null,
      "metadata": {
        "colab": {
          "background_save": true
        },
        "id": "Grv1JvcCW-g0"
      },
      "outputs": [],
      "source": [
        "#Numero de objetos por clase en se de train y de entrenamiento\n",
        "#Clase 0: 14966. Clase 1: 1620. Clase 2: 14996. Clase 3: 9899. Clase 4: 10763\n",
        "#Train\n",
        "#Clase 0: 8980. Clase 1: 972. Clase 2: 8998. Clase 3: 5939. Clase 4: 6457\n",
        "\n",
        "n = [1, 6100, 1, 1000, 600] # imagenes nueva por clase\n",
        "c = [0, 1, 2, 3, 4] # Clases que se quiere aumenta \n",
        "n_c = [8980, 972, 8998, 5939, 6457]  # Cantidad de valores en el set de entrenamiento para obtener valores random\n",
        "\n",
        "np.random.seed(4106)\n",
        "# indices aleatorios\n",
        "i_samples = []\n",
        "for i, n_i in enumerate(n):\n",
        "  i_samples.append(np.random.randint(n_c[i], size=n_i) ) # se obtienen numeros aleatorios para sampling del set de entrenamiento\n",
        "\n",
        "# se definen las capas de data augmentation\n",
        "height_factor = (0.06,0.06)\n",
        "width_factor = (0.06,0.06)\n",
        "data_augmentation = tf.keras.Sequential([layers.RandomRotation(0.8),tf.keras.layers.RandomTranslation(\n",
        "    height_factor, width_factor, fill_mode='nearest' )])\n",
        "# height_factor = (0.6,0.6)\n",
        "# width_factor = (0.6,0.6)\n",
        "# data_augmentation_2 = tf.keras.Sequential([layers.RandomRotation(0.8),tf.keras.layers.RandomTranslation(\n",
        "#     height_factor, width_factor, fill_mode='nearest' )])\n",
        "\n",
        "plot_images = False\n",
        "# Recorre cada clase.\n",
        "# Obtiene el numero de muestras que se desea por clase\n",
        "for j, c_i in enumerate(c):\n",
        "\n",
        "  for i in i_samples[j]:\n",
        "    # Se obtiene imagen segun numero aleatorio\n",
        "    img_sample = X_train[y_train == c_i][i]\n",
        "    # Se obtiene los metadatos asociados a esa imagen (solo se copian)\n",
        "    md_sample = X_train_metadata[y_train == c_i][i]\n",
        "    # Se obtiene la nueva imagen\n",
        "    augmented_image = data_augmentation(img_sample)\n",
        "\n",
        "    # Se agrega nueva imagen al test de train\n",
        "    X_train = np.append(X_train,\n",
        "                        tf.reshape(augmented_image,(1,augmented_image.shape[0],augmented_image.shape[1],augmented_image.shape[2])),\n",
        "                        axis=0)\n",
        "    # Se agrega metadatos asociaos a la imagen\n",
        "    X_train_metadata = np.append(X_train_metadata, md_sample.reshape(1,md_sample.shape[0]),axis=0)\n",
        "\n",
        "    # Se agrega clase asociada\n",
        "    y_train = np.append(y_train, c_i)\n",
        "\n",
        "    # Para visualizar rotacion descomentar\n",
        "    if plot_images:\n",
        "      fig, axs = plt.subplots(3,3,figsize=(15,15))\n",
        "      color =  'magma'\n",
        "      first_image_1 = img_sample[:,:,0]\n",
        "      second_image_1 = img_sample[:,:,1]\n",
        "      third_image_1 = img_sample[:,:,2]\n",
        "      pixels_1= [first_image_1.reshape((img_crop, img_crop)), second_image_1.reshape((img_crop,img_crop)), third_image_1.reshape((img_crop, img_crop))]\n",
        "      axs[0,0].imshow(pixels_1[0],cmap=color)\n",
        "      axs[0,1].imshow(pixels_1[1],cmap=color)\n",
        "      axs[0,2].imshow(pixels_1[2],cmap=color)\n",
        "\n",
        "      first_image = augmented_image[:,:,0]\n",
        "      second_image = augmented_image[:,:,1]\n",
        "      third_image = augmented_image[:,:,2]\n",
        "      pixels= [first_image, second_image, third_image]\n",
        "      axs[1,0].imshow(pixels[0],cmap=color)\n",
        "      axs[1,1].imshow(pixels[1],cmap=color)\n",
        "      axs[1,2].imshow(pixels[2],cmap=color)\n",
        "\n",
        "      augmented_image_2 = data_augmentation_2(img_sample)\n",
        "      first_image_2 = augmented_image_2[:,:,0]\n",
        "      second_image_2 = augmented_image_2[:,:,1]\n",
        "      third_image_2 = augmented_image_2[:,:,2]\n",
        "      pixels_2 = [first_image_2, second_image_2, third_image_2]\n",
        "      axs[2,0].imshow(pixels_2[0],cmap=color)\n",
        "      axs[2,1].imshow(pixels_2[1],cmap=color)\n",
        "      axs[2,2].imshow(pixels_2[2],cmap=color)\n",
        "    \n",
        "\n",
        "# Se revuelven los datos de entrenamiento\n",
        "# es el mismo shuffle para X_train, X_train_metadata, y_train\n",
        "shuffler = np.random.permutation(X_train.shape[0])\n",
        "\n",
        "X_train = X_train[shuffler]\n",
        "X_train_metadata = X_train_metadata[shuffler]\n",
        "y_train = y_train[shuffler]"
      ],
      "id": "Grv1JvcCW-g0"
    },
    {
      "cell_type": "code",
      "execution_count": null,
      "metadata": {
        "colab": {
          "background_save": true
        },
        "id": "lMjB4Dxqp8_u"
      },
      "outputs": [],
      "source": [
        "# Se define el modelo\n",
        "\n",
        "model2 = False\n",
        "\n",
        "# Input imagenes\n",
        "sequence = Input(shape=(img_crop, img_crop, 3), name='Sequence')\n",
        "# Input metadata\n",
        "features = Input(shape=(23,), name='Features')\n",
        "\n",
        "# Se define red convolucional de cyclic pooling\n",
        "model = models.Sequential()\n",
        "model.add(layers.ZeroPadding2D(padding=1,input_shape=(img_crop,img_crop,3)))\n",
        "model.add(layers.Conv2D(32, (4, 4), activation='relu'))#, input_shape=(41, 41, 3)))\n",
        "model.add(layers.Conv2D(32, (3, 3), activation='relu',padding='same'))\n",
        "model.add(layers.MaxPooling2D((2, 2),strides=2))\n",
        "model.add(layers.Conv2D(64, (3, 3), activation='relu',padding='same'))\n",
        "model.add(layers.Conv2D(64, (3, 3), activation='relu',padding='same'))\n",
        "model.add(layers.Conv2D(64, (3, 3), activation='relu',padding='same'))\n",
        "model.add(layers.MaxPooling2D((2, 2),strides=2))\n",
        "model.add(layers.Flatten())\n",
        "model.add(layers.Dense(64, activation='relu'))\n",
        "\n",
        "# Se aplica la red para cada rotacion\n",
        "part1 = model(sequence)\n",
        "part2 = model(tf.image.rot90(sequence, k=1))\n",
        "part3 = model(tf.image.rot90(sequence, k=2))\n",
        "part4 = model(tf.image.rot90(sequence, k=3))\n",
        "\n",
        "# Se obtiene cyclic pooling\n",
        "cyclic_pooling = tf.keras.layers.Average()([part1,part2,part3,part4])\n",
        " \n",
        "# Capas densas después de cyclic pooling\n",
        "\n",
        "if model2:\n",
        "  cyclic_pooling = layers.Dense(128, activation='relu')(cyclic_pooling)\n",
        "  cyclic_pooling = layers.Dense(64, activation='relu')(part_cypool)\n",
        "\n",
        "# Batch normalization para metadatos\n",
        "part_md = layers.BatchNormalization(axis=1, momentum=0.99, epsilon=0.001)(features)\n",
        "\n",
        "# Se concatenan salida de cyclic pooling con metadatos \n",
        "merged = concatenate([cyclic_pooling, part_md])\n",
        "\n",
        "# Se palica capas finales\n",
        "final= Dense(64, activation='relu')(merged)\n",
        "final= Dropout(0.5)(final)\n",
        "final= Dense(64, activation='relu')(final)\n",
        "# Se aplica capa final de salida\n",
        "final= Dense(units= 5, activation='softmax')(final)\n",
        "\n",
        "# Se define modelo final con las respectivas entradas\n",
        "model = models.Model(inputs=[sequence, features], outputs=[final])\n",
        "\n",
        "# Modelo auxiliar con salida el cyclic pooling\n",
        "model_aux = models.Model(inputs=[sequence], outputs=[cyclic_pooling])\n"
      ],
      "id": "lMjB4Dxqp8_u"
    },
    {
      "cell_type": "code",
      "execution_count": null,
      "metadata": {
        "colab": {
          "background_save": true
        },
        "id": "Sz5Rq6mtMhgk",
        "outputId": "04ab47a9-19da-46a1-fafa-0492c2015196"
      },
      "outputs": [
        {
          "name": "stdout",
          "output_type": "stream",
          "text": [
            "Model: \"model\"\n",
            "__________________________________________________________________________________________________\n",
            " Layer (type)                   Output Shape         Param #     Connected to                     \n",
            "==================================================================================================\n",
            " Sequence (InputLayer)          [(None, 24, 24, 3)]  0           []                               \n",
            "                                                                                                  \n",
            " tf.image.rot90 (TFOpLambda)    (None, 24, 24, 3)    0           ['Sequence[0][0]']               \n",
            "                                                                                                  \n",
            " tf.image.rot90_1 (TFOpLambda)  (None, 24, 24, 3)    0           ['Sequence[0][0]']               \n",
            "                                                                                                  \n",
            " tf.image.rot90_2 (TFOpLambda)  (None, 24, 24, 3)    0           ['Sequence[0][0]']               \n",
            "                                                                                                  \n",
            " sequential_1 (Sequential)      (None, 128)          308096      ['Sequence[0][0]',               \n",
            "                                                                  'tf.image.rot90[0][0]',         \n",
            "                                                                  'tf.image.rot90_1[0][0]',       \n",
            "                                                                  'tf.image.rot90_2[0][0]']       \n",
            "                                                                                                  \n",
            " Features (InputLayer)          [(None, 23)]         0           []                               \n",
            "                                                                                                  \n",
            " average (Average)              (None, 128)          0           ['sequential_1[0][0]',           \n",
            "                                                                  'sequential_1[1][0]',           \n",
            "                                                                  'sequential_1[2][0]',           \n",
            "                                                                  'sequential_1[3][0]']           \n",
            "                                                                                                  \n",
            " batch_normalization (BatchNorm  (None, 23)          92          ['Features[0][0]']               \n",
            " alization)                                                                                       \n",
            "                                                                                                  \n",
            " concatenate (Concatenate)      (None, 151)          0           ['average[0][0]',                \n",
            "                                                                  'batch_normalization[0][0]']    \n",
            "                                                                                                  \n",
            " dense_1 (Dense)                (None, 64)           9728        ['concatenate[0][0]']            \n",
            "                                                                                                  \n",
            " dropout (Dropout)              (None, 64)           0           ['dense_1[0][0]']                \n",
            "                                                                                                  \n",
            " dense_2 (Dense)                (None, 64)           4160        ['dropout[0][0]']                \n",
            "                                                                                                  \n",
            " dense_3 (Dense)                (None, 5)            325         ['dense_2[0][0]']                \n",
            "                                                                                                  \n",
            "==================================================================================================\n",
            "Total params: 322,401\n",
            "Trainable params: 322,355\n",
            "Non-trainable params: 46\n",
            "__________________________________________________________________________________________________\n"
          ]
        }
      ],
      "source": [
        "model.summary()"
      ],
      "id": "Sz5Rq6mtMhgk"
    },
    {
      "cell_type": "code",
      "execution_count": null,
      "metadata": {
        "colab": {
          "background_save": true
        },
        "id": "Kmgj8BflD8Qi",
        "outputId": "1969ba77-e39a-4b06-9cdd-bb11355ab8a5"
      },
      "outputs": [
        {
          "name": "stdout",
          "output_type": "stream",
          "text": [
            "Model: \"model_1\"\n",
            "__________________________________________________________________________________________________\n",
            " Layer (type)                   Output Shape         Param #     Connected to                     \n",
            "==================================================================================================\n",
            " Sequence (InputLayer)          [(None, 24, 24, 3)]  0           []                               \n",
            "                                                                                                  \n",
            " tf.image.rot90 (TFOpLambda)    (None, 24, 24, 3)    0           ['Sequence[0][0]']               \n",
            "                                                                                                  \n",
            " tf.image.rot90_1 (TFOpLambda)  (None, 24, 24, 3)    0           ['Sequence[0][0]']               \n",
            "                                                                                                  \n",
            " tf.image.rot90_2 (TFOpLambda)  (None, 24, 24, 3)    0           ['Sequence[0][0]']               \n",
            "                                                                                                  \n",
            " sequential_1 (Sequential)      (None, 128)          308096      ['Sequence[0][0]',               \n",
            "                                                                  'tf.image.rot90[0][0]',         \n",
            "                                                                  'tf.image.rot90_1[0][0]',       \n",
            "                                                                  'tf.image.rot90_2[0][0]']       \n",
            "                                                                                                  \n",
            " average (Average)              (None, 128)          0           ['sequential_1[0][0]',           \n",
            "                                                                  'sequential_1[1][0]',           \n",
            "                                                                  'sequential_1[2][0]',           \n",
            "                                                                  'sequential_1[3][0]']           \n",
            "                                                                                                  \n",
            "==================================================================================================\n",
            "Total params: 308,096\n",
            "Trainable params: 308,096\n",
            "Non-trainable params: 0\n",
            "__________________________________________________________________________________________________\n"
          ]
        }
      ],
      "source": [
        "model_aux.summary()"
      ],
      "id": "Kmgj8BflD8Qi"
    },
    {
      "cell_type": "code",
      "execution_count": null,
      "metadata": {
        "colab": {
          "background_save": true
        },
        "id": "XK16pZemujE2"
      },
      "outputs": [],
      "source": [
        "# Se define early stopping\n",
        "callback = tf.keras.callbacks.EarlyStopping(monitor='val_accuracy', patience=5)"
      ],
      "id": "XK16pZemujE2"
    },
    {
      "cell_type": "code",
      "execution_count": null,
      "metadata": {
        "colab": {
          "background_save": true
        },
        "id": "ZtMSI8omT1zh"
      },
      "outputs": [],
      "source": [
        "\n",
        "def Entropy_Regularization(y_true,y_pred):\n",
        "  loss = tf.keras.losses.SparseCategoricalCrossentropy(from_logits=False)\n",
        "  cross_entropy = loss(y_true=y_true, y_pred=y_pred)\n",
        "  \n",
        "  loss_2 = tf.keras.losses.CategoricalCrossentropy(from_logits=False)\n",
        "  regul = loss_2(y_true=y_pred, y_pred=y_pred)\n",
        "\n",
        "  Loss = cross_entropy - 0.5*regul\n",
        "  return Loss"
      ],
      "id": "ZtMSI8omT1zh"
    },
    {
      "cell_type": "code",
      "execution_count": null,
      "metadata": {
        "colab": {
          "background_save": true
        },
        "id": "AE3DH8eOMd7A"
      },
      "outputs": [],
      "source": [
        "# Se define funcion Loss y optimizador\n",
        "opt = tf.keras.optimizers.Adam(\n",
        "    learning_rate=0.001, beta_1=0.5, beta_2=0.9,amsgrad=True,name='Adam')\n",
        "loss_model = tf.keras.losses.SparseCategoricalCrossentropy(from_logits=False)\n",
        "# loss_model = Entropy_Regularization\n",
        "\n",
        "model.compile(optimizer=opt,\n",
        "             loss=loss_model,\n",
        "             metrics=['accuracy'])\n"
      ],
      "id": "AE3DH8eOMd7A"
    },
    {
      "cell_type": "code",
      "execution_count": null,
      "metadata": {
        "colab": {
          "background_save": true
        },
        "id": "svQYKB6Xe38B"
      },
      "outputs": [],
      "source": [
        "# Se definen pesos para introducir a la red\n",
        "# Clase 0: 14966. Clase 1: 1620. Clase 2: 14996. Clase 3: 9899. Clase 4: 10763\n",
        "c_0, c_1, c_2, c_3, c_4 = 14966, 1620, 14996, 9899, 10763\n",
        "n = 14966 + 1620 + 14996 + 9899 + 10763\n",
        "w_0, w_1, w_2, w_3, w_4 = 10000*n/c_0**2, 1000000*n/c_1**2, 10000*n/c_2**2, 100000*n/c_3**2, 100000*n/c_4**2\n",
        "class_weight = {0: w_0,\n",
        "                1: w_1,\n",
        "                2: w_2,\n",
        "                3: w_3,\n",
        "                4: w_4}\n",
        "\n",
        "print( w_0, w_1, w_2, w_3, w_4 )"
      ],
      "id": "svQYKB6Xe38B"
    },
    {
      "cell_type": "code",
      "execution_count": null,
      "metadata": {
        "colab": {
          "background_save": true
        },
        "id": "PtegW3jI-BDu",
        "outputId": "f42efcd1-33fa-4668-b3ac-c9570e6db097"
      },
      "outputs": [
        {
          "name": "stdout",
          "output_type": "stream",
          "text": [
            "Epoch 1/50\n",
            "1221/1221 [==============================] - 53s 35ms/step - loss: 0.5565 - accuracy: 0.8019 - val_loss: 0.3098 - val_accuracy: 0.8986\n",
            "Epoch 2/50\n",
            "1221/1221 [==============================] - 41s 34ms/step - loss: 0.3310 - accuracy: 0.8864 - val_loss: 0.2433 - val_accuracy: 0.9176\n",
            "Epoch 3/50\n",
            "1221/1221 [==============================] - 41s 34ms/step - loss: 0.2965 - accuracy: 0.8986 - val_loss: 0.2293 - val_accuracy: 0.9210\n",
            "Epoch 4/50\n",
            "1221/1221 [==============================] - 41s 34ms/step - loss: 0.2733 - accuracy: 0.9079 - val_loss: 0.2205 - val_accuracy: 0.9235\n",
            "Epoch 5/50\n",
            "1221/1221 [==============================] - 42s 34ms/step - loss: 0.2615 - accuracy: 0.9096 - val_loss: 0.2081 - val_accuracy: 0.9291\n",
            "Epoch 6/50\n",
            "1221/1221 [==============================] - 41s 34ms/step - loss: 0.2519 - accuracy: 0.9147 - val_loss: 0.1996 - val_accuracy: 0.9337\n",
            "Epoch 7/50\n",
            "1221/1221 [==============================] - 42s 34ms/step - loss: 0.2386 - accuracy: 0.9172 - val_loss: 0.2040 - val_accuracy: 0.9300\n",
            "Epoch 8/50\n",
            "1221/1221 [==============================] - 42s 34ms/step - loss: 0.2327 - accuracy: 0.9201 - val_loss: 0.2092 - val_accuracy: 0.9308\n",
            "Epoch 9/50\n",
            "1221/1221 [==============================] - 42s 34ms/step - loss: 0.2225 - accuracy: 0.9221 - val_loss: 0.1967 - val_accuracy: 0.9336\n",
            "Epoch 10/50\n",
            "1221/1221 [==============================] - 42s 34ms/step - loss: 0.2181 - accuracy: 0.9250 - val_loss: 0.1899 - val_accuracy: 0.9373\n",
            "Epoch 11/50\n",
            "1221/1221 [==============================] - 42s 34ms/step - loss: 0.2101 - accuracy: 0.9268 - val_loss: 0.1957 - val_accuracy: 0.9346\n",
            "Epoch 12/50\n",
            "1221/1221 [==============================] - 42s 34ms/step - loss: 0.2081 - accuracy: 0.9286 - val_loss: 0.1910 - val_accuracy: 0.9350\n",
            "Epoch 13/50\n",
            "1221/1221 [==============================] - 42s 34ms/step - loss: 0.2017 - accuracy: 0.9301 - val_loss: 0.1906 - val_accuracy: 0.9376\n",
            "Epoch 14/50\n",
            "1221/1221 [==============================] - 41s 34ms/step - loss: 0.1968 - accuracy: 0.9317 - val_loss: 0.1831 - val_accuracy: 0.9387\n",
            "Epoch 15/50\n",
            "1221/1221 [==============================] - 42s 34ms/step - loss: 0.1891 - accuracy: 0.9338 - val_loss: 0.1885 - val_accuracy: 0.9378\n",
            "Epoch 16/50\n",
            "1221/1221 [==============================] - 42s 34ms/step - loss: 0.1865 - accuracy: 0.9354 - val_loss: 0.2140 - val_accuracy: 0.9298\n",
            "Epoch 17/50\n",
            "1221/1221 [==============================] - 42s 34ms/step - loss: 0.1824 - accuracy: 0.9379 - val_loss: 0.1793 - val_accuracy: 0.9402\n",
            "Epoch 18/50\n",
            "1221/1221 [==============================] - 42s 34ms/step - loss: 0.1802 - accuracy: 0.9370 - val_loss: 0.1811 - val_accuracy: 0.9398\n",
            "Epoch 19/50\n",
            "1221/1221 [==============================] - 42s 34ms/step - loss: 0.1741 - accuracy: 0.9397 - val_loss: 0.1846 - val_accuracy: 0.9388\n",
            "Epoch 20/50\n",
            "1221/1221 [==============================] - 42s 34ms/step - loss: 0.1698 - accuracy: 0.9421 - val_loss: 0.1794 - val_accuracy: 0.9408\n",
            "Epoch 21/50\n",
            "1221/1221 [==============================] - 42s 34ms/step - loss: 0.1685 - accuracy: 0.9413 - val_loss: 0.1932 - val_accuracy: 0.9346\n",
            "Epoch 22/50\n",
            "1221/1221 [==============================] - 42s 34ms/step - loss: 0.1607 - accuracy: 0.9449 - val_loss: 0.1866 - val_accuracy: 0.9378\n",
            "Epoch 23/50\n",
            "1221/1221 [==============================] - 42s 34ms/step - loss: 0.1591 - accuracy: 0.9449 - val_loss: 0.1927 - val_accuracy: 0.9391\n",
            "Epoch 24/50\n",
            "1221/1221 [==============================] - 42s 34ms/step - loss: 0.1549 - accuracy: 0.9464 - val_loss: 0.1919 - val_accuracy: 0.9382\n",
            "Epoch 25/50\n",
            "1221/1221 [==============================] - 42s 34ms/step - loss: 0.1541 - accuracy: 0.9478 - val_loss: 0.2200 - val_accuracy: 0.9359\n",
            "\n",
            "Entrenamiento finalizado\n",
            "Tiempo de entrenamiento: 1051.5947635173798[s]\n"
          ]
        }
      ],
      "source": [
        "run_n_times = 1\n",
        "stats_history = []\n",
        "for run in range(run_n_times):\n",
        "\n",
        "  loss_cp_tr = [0] #historial de loss, 50 epocas\n",
        "  loss_cp_val = [0]\n",
        "  loss_plot_tr=[] #historial de loss para plot\n",
        "  loss_plot_val=[]\n",
        "  accuracy_plot_tr=[]\n",
        "  accuracy_plot_val=[]\n",
        "  recall_plot_tr=[]\n",
        "  recall_plot_val=[]\n",
        "  precision_plot_tr=[]\n",
        "  precision_plot_val=[]\n",
        "  f1score_plot_tr=[]\n",
        "  f1score_plot_val=[]\n",
        "  t_i_train=time.time()\n",
        "\n",
        "  tb_callback = tf.keras.callbacks.TensorBoard('./logs', update_freq=1)\n",
        "  #history = model.fit(X_train, y_train,batch_size = 64, epochs=50, callbacks=[tb_callback], validation_data=(X_val, y_val))\n",
        "  history = model.fit([X_train,X_train_metadata], y_train,batch_size = 32, epochs=50, callbacks=[callback], \n",
        "                      validation_data=([X_val,X_val_metadata], y_val), )#class_weight=class_weight)\n",
        "          \n",
        "  stats_history.append(history)\n",
        "\n",
        "  loss_plot_tr.append(history.history['loss'])\n",
        "  loss_plot_val.append(history.history['val_loss'])\n",
        "  accuracy_plot_tr.append(history.history['accuracy'])\n",
        "  accuracy_plot_val.append(history.history['val_accuracy'])\n",
        "      \n",
        "t_f_train=time.time()\n",
        "print('\\nEntrenamiento finalizado')\n",
        "print(f'Tiempo de entrenamiento: {t_f_train-t_i_train}[s]')"
      ],
      "id": "PtegW3jI-BDu"
    },
    {
      "cell_type": "code",
      "execution_count": null,
      "metadata": {
        "colab": {
          "background_save": true
        },
        "id": "OhG9Gv1MS5KK",
        "outputId": "c194f103-fbe4-4331-fb88-0a31b06cb42e"
      },
      "outputs": [
        {
          "name": "stdout",
          "output_type": "stream",
          "text": [
            "Train accuracy 0.948 +/- 0.000\n",
            "[0.94783342]\n",
            "Validation accuracy 0.936 +/- 0.000\n",
            "[0.93587905]\n"
          ]
        }
      ],
      "source": [
        "train_acc_history = np.array([run.history['accuracy'][-1] for run in stats_history])\n",
        "train_acc_mean = train_acc_history.mean()\n",
        "train_acc_std = train_acc_history.std()\n",
        "print('Train accuracy %.3f +/- %.3f' % (train_acc_mean, train_acc_std))\n",
        "print(train_acc_history)\n",
        "\n",
        "val_acc_history = np.array([run.history['val_accuracy'][-1] for run in stats_history])\n",
        "val_acc_mean = val_acc_history.mean()\n",
        "val_acc_std = val_acc_history.std()\n",
        "print('Validation accuracy %.3f +/- %.3f' % (val_acc_mean, val_acc_std))\n",
        "print(val_acc_history)"
      ],
      "id": "OhG9Gv1MS5KK"
    },
    {
      "cell_type": "code",
      "execution_count": null,
      "metadata": {
        "colab": {
          "background_save": true
        },
        "id": "1WY9w9EcIvb9",
        "outputId": "393aaa4e-7ac0-4612-bb0f-828ab74a7d39"
      },
      "outputs": [
        {
          "name": "stdout",
          "output_type": "stream",
          "text": [
            "Model: \"model_1\"\n",
            "__________________________________________________________________________________________________\n",
            " Layer (type)                   Output Shape         Param #     Connected to                     \n",
            "==================================================================================================\n",
            " Sequence (InputLayer)          [(None, 24, 24, 3)]  0           []                               \n",
            "                                                                                                  \n",
            " tf.image.rot90 (TFOpLambda)    (None, 24, 24, 3)    0           ['Sequence[0][0]']               \n",
            "                                                                                                  \n",
            " tf.image.rot90_1 (TFOpLambda)  (None, 24, 24, 3)    0           ['Sequence[0][0]']               \n",
            "                                                                                                  \n",
            " tf.image.rot90_2 (TFOpLambda)  (None, 24, 24, 3)    0           ['Sequence[0][0]']               \n",
            "                                                                                                  \n",
            " sequential_1 (Sequential)      (None, 128)          308096      ['Sequence[0][0]',               \n",
            "                                                                  'tf.image.rot90[0][0]',         \n",
            "                                                                  'tf.image.rot90_1[0][0]',       \n",
            "                                                                  'tf.image.rot90_2[0][0]']       \n",
            "                                                                                                  \n",
            " average (Average)              (None, 128)          0           ['sequential_1[0][0]',           \n",
            "                                                                  'sequential_1[1][0]',           \n",
            "                                                                  'sequential_1[2][0]',           \n",
            "                                                                  'sequential_1[3][0]']           \n",
            "                                                                                                  \n",
            "==================================================================================================\n",
            "Total params: 308,096\n",
            "Trainable params: 308,096\n",
            "Non-trainable params: 0\n",
            "__________________________________________________________________________________________________\n"
          ]
        }
      ],
      "source": [
        "model_aux.summary()"
      ],
      "id": "1WY9w9EcIvb9"
    },
    {
      "cell_type": "code",
      "execution_count": null,
      "metadata": {
        "colab": {
          "background_save": true
        },
        "id": "NfP-N_6j0C-R"
      },
      "outputs": [],
      "source": [
        "# model.save('/content/drive/MyDrive/u/Colab Notebooks/New inteligence/Alerce/modelo6')"
      ],
      "id": "NfP-N_6j0C-R"
    },
    {
      "cell_type": "code",
      "execution_count": null,
      "metadata": {
        "colab": {
          "background_save": true
        },
        "id": "72CBIZ6z-Mye",
        "outputId": "9e1ca75a-7de3-4647-e34a-1610f375f9d7"
      },
      "outputs": [
        {
          "data": {
            "image/png": "[encoded data removed]",
            "text/plain": [
              "<Figure size 432x288 with 1 Axes>"
            ]
          },
          "metadata": {},
          "output_type": "display_data"
        },
        {
          "data": {
            "image/png": "[encoded data removed]",
            "text/plain": [
              "<Figure size 432x288 with 1 Axes>"
            ]
          },
          "metadata": {},
          "output_type": "display_data"
        }
      ],
      "source": [
        "import matplotlib.pyplot as plt\n",
        "def plot_history():\n",
        "  plt.figure()\n",
        "  plt.xlabel('Epoch')\n",
        "  plt.ylabel('Loss')\n",
        "  plt.title('Loss vs Epoch')\n",
        "  plt.plot(np.arange(len(loss_plot_tr[0])), loss_plot_tr[0], \n",
        "           label='Train')\n",
        "  plt.plot(np.arange(len(loss_plot_val[0])), loss_plot_val[0],\n",
        "           label = 'Val')\n",
        "  plt.legend()\n",
        "  #plt.ylim([0,1])\n",
        "\n",
        "def plot_accuracy():\n",
        "    plt.figure()\n",
        "    plt.xlabel('Epoch')\n",
        "    plt.ylabel('Accuracy')\n",
        "    plt.title('Accuracy vs Epoch')\n",
        "    plt.plot(np.arange(len(accuracy_plot_tr[0])), accuracy_plot_tr[0], \n",
        "            label='Train')\n",
        "    plt.plot(np.arange(len(accuracy_plot_val[0])), accuracy_plot_val[0],\n",
        "            label = 'Val')\n",
        "    plt.legend()\n",
        "    plt.ylim([0,1])\n",
        "\n",
        "plot_history()\n",
        "plot_accuracy()"
      ],
      "id": "72CBIZ6z-Mye"
    },
    {
      "cell_type": "code",
      "execution_count": null,
      "metadata": {
        "colab": {
          "background_save": true
        },
        "id": "uqFJamuAbCSh",
        "outputId": "9085912b-2845-438f-b904-31feee31c380"
      },
      "outputs": [
        {
          "data": {
            "text/plain": [
              "Counter({0: 2993, 1: 324, 2: 2999, 3: 1980, 4: 2153})"
            ]
          },
          "execution_count": null,
          "metadata": {},
          "output_type": "execute_result"
        }
      ],
      "source": [
        "# Cantidad de clases en set de validacion\n",
        "collections.Counter(y_val)"
      ],
      "id": "uqFJamuAbCSh"
    },
    {
      "cell_type": "code",
      "execution_count": null,
      "metadata": {
        "colab": {
          "background_save": true
        },
        "id": "VDYxROw9MdfQ",
        "outputId": "fd6d6068-06f5-443d-b07d-f5eb0ca87db9"
      },
      "outputs": [
        {
          "name": "stdout",
          "output_type": "stream",
          "text": [
            "327/327 [==============================] - 4s 13ms/step - loss: 0.2073 - accuracy: 0.9384\n"
          ]
        },
        {
          "data": {
            "text/plain": [
              "[0.20734375715255737, 0.9383673071861267]"
            ]
          },
          "execution_count": null,
          "metadata": {},
          "output_type": "execute_result"
        }
      ],
      "source": [
        "results=model.evaluate((X_test,X_test_metadata),y_test)\n",
        "print(f'Loss Test = {results[0]}, Accuracy Test{results[1]}')"
      ],
      "id": "VDYxROw9MdfQ"
    },
    {
      "cell_type": "code",
      "execution_count": null,
      "metadata": {
        "colab": {
          "background_save": true
        },
        "id": "3UlC2m8qNbz6",
        "outputId": "b811e325-557c-453a-aa04-06eefc8d968e"
      },
      "outputs": [
        {
          "data": {
            "text/plain": [
              "(10449,)"
            ]
          },
          "execution_count": null,
          "metadata": {},
          "output_type": "execute_result"
        }
      ],
      "source": [
        "predictions = model.predict((X_test,X_test_metadata),)\n",
        "predictions_classes = np.argmax(predictions, axis=1)\n",
        "predictions_classes.shape"
      ],
      "id": "3UlC2m8qNbz6"
    },
    {
      "cell_type": "code",
      "execution_count": null,
      "metadata": {
        "colab": {
          "background_save": true
        },
        "id": "hyvkleNiW_0t",
        "outputId": "de5b9997-3ba3-4ed5-94e9-8722da537996"
      },
      "outputs": [
        {
          "data": {
            "text/plain": [
              "(10449,)"
            ]
          },
          "execution_count": null,
          "metadata": {},
          "output_type": "execute_result"
        }
      ],
      "source": [
        "y_test.shape"
      ],
      "id": "hyvkleNiW_0t"
    },
    {
      "cell_type": "code",
      "execution_count": null,
      "metadata": {
        "colab": {
          "background_save": true
        },
        "id": "c_l4Jpi5WlIF",
        "outputId": "033dee1f-8a07-4a8f-e047-8a6e37293ec5"
      },
      "outputs": [
        {
          "name": "stdout",
          "output_type": "stream",
          "text": [
            "0.9383673\n"
          ]
        }
      ],
      "source": [
        "acc = tf.keras.metrics.Accuracy()\n",
        "acc.update_state(predictions_classes,y_test)\n",
        "print(acc.result().numpy())"
      ],
      "id": "c_l4Jpi5WlIF"
    },
    {
      "cell_type": "code",
      "execution_count": null,
      "metadata": {
        "colab": {
          "background_save": true
        },
        "id": "AWBB1hymYs2F",
        "outputId": "ce8c9da9-de0a-4b74-b9f4-fc7def92759c"
      },
      "outputs": [
        {
          "name": "stdout",
          "output_type": "stream",
          "text": [
            "accuracy: [0.93351153 0.78703704 0.9333111  0.99090909 0.92661403] , promedio accuracy 0.9142765570965216\n",
            "precision: [0.94010767 0.77981651 0.94179004 0.92155942 0.97364568], promedio precision 0.9113838648253557\n",
            "recall: [0.93351153 0.78703704 0.9333111  0.99090909 0.92661403], promedio recall 0.9142765570965216\n",
            "fscore: [0.93679799 0.78341014 0.9375314  0.95497688 0.94954783], promedio fscore 0.9124528485346062\n"
          ]
        }
      ],
      "source": [
        "# Metricas por Clase\n",
        "matrix = confusion_matrix(y_test, predictions_classes)\n",
        "acc = matrix.diagonal()/matrix.sum(axis=1)\n",
        "# acc = accuracy_score(y_test, predictions_classes)\n",
        "precision, recall, f1, _ = score(y_test, predictions_classes)\n",
        "\n",
        "print('accuracy: {} , promedio accuracy {}'.format(acc,np.mean(acc)))\n",
        "print('precision: {}, promedio precision {}'.format(precision,np.mean(precision)))\n",
        "print('recall: {}, promedio recall {}'.format(recall,np.mean(recall)))\n",
        "print('fscore: {}, promedio fscore {}'.format(f1,np.mean(f1)))"
      ],
      "id": "AWBB1hymYs2F"
    },
    {
      "cell_type": "code",
      "execution_count": null,
      "metadata": {
        "colab": {
          "background_save": true
        },
        "id": "1gsm3-nfzT1I"
      },
      "outputs": [],
      "source": [
        "pred=[]\n",
        "for elemento in predictions:\n",
        "  pred.append(np.where(elemento==elemento.max())[0][0])"
      ],
      "id": "1gsm3-nfzT1I"
    },
    {
      "cell_type": "code",
      "execution_count": null,
      "metadata": {
        "colab": {
          "background_save": true
        },
        "id": "ICnWagSnBv-I",
        "outputId": "7f72ee5d-f487-4dcb-ac1f-e7b4881ec936"
      },
      "outputs": [
        {
          "data": {
            "text/plain": [
              "<tf.Tensor: shape=(5, 5), dtype=int32, numpy=\n",
              "array([[2794,   28,  146,    5,   20],\n",
              "       [   8,  255,    1,   53,    7],\n",
              "       [ 157,    8, 2799,   16,   19],\n",
              "       [   1,    6,    3, 1962,    8],\n",
              "       [  12,   30,   23,   93, 1995]], dtype=int32)>"
            ]
          },
          "execution_count": null,
          "metadata": {},
          "output_type": "execute_result"
        }
      ],
      "source": [
        "confmatr=tf.math.confusion_matrix(y_test, pred)\n",
        "confmatr"
      ],
      "id": "ICnWagSnBv-I"
    },
    {
      "cell_type": "code",
      "execution_count": null,
      "metadata": {
        "colab": {
          "background_save": true
        },
        "id": "h5-32FcOkzXt"
      },
      "outputs": [],
      "source": [
        "# Matriz de Confusion\n",
        "\n",
        "\n",
        "def custom_confusion_matrix(y_true, y_pred, classes,\n",
        "                          normalize=False,\n",
        "                          title=None,\n",
        "                          plot_size = None,\n",
        "                          cmap=plt.cm.Blues):\n",
        "  \n",
        "    if not title:\n",
        "        if normalize:\n",
        "            title = 'Normalized confusion matrix'\n",
        "        else:\n",
        "            title = 'Confusion matrix, without normalization'\n",
        "\n",
        "    # Compute confusion matrix\n",
        "    cm = confusion_matrix(y_true, y_pred)\n",
        "    # Only use the labels that appear in the data\n",
        "    classes = classes[unique_labels(y_true, y_pred)]\n",
        "\n",
        "    if normalize:\n",
        "        normalize_factor = cm.sum(axis=1)[:, np.newaxis]\n",
        "        cm = cm.astype('float') / normalize_factor\n",
        "        cm = cm*100\n",
        "        print(\"Normalized confusion matrix\")\n",
        "    else:\n",
        "        print('Confusion matrix, without normalization')\n",
        "        cm = np.floor(cm).astype('int')\n",
        "\n",
        "    fig, ax = plt.subplots(figsize=plot_size,  dpi=80)\n",
        "    if normalize:\n",
        "        im = ax.imshow(cm, interpolation='nearest', cmap=cmap, vmin= np.min(cm), vmax= np.max(cm))\n",
        "    else:\n",
        "        im = ax.imshow(cm, interpolation='nearest', cmap=cmap)\n",
        "\n",
        "    ax.figure.colorbar(im, ax=ax)\n",
        "    # We want to show all ticks...\n",
        "    ax.set(xticks=np.arange(cm.shape[1]),\n",
        "           yticks=np.arange(cm.shape[0]),\n",
        "           # ... and label them with the respective list entries\n",
        "           xticklabels=classes, yticklabels=classes,\n",
        "           title=title,\n",
        "           ylabel='True label',\n",
        "           xlabel='Predicted label')\n",
        "\n",
        "    # Rotate the tick labels and set their alignment.\n",
        "    plt.setp(ax.get_xticklabels(), rotation=45, ha=\"right\",\n",
        "             rotation_mode=\"anchor\")\n",
        "\n",
        "    # Loop over data dimensions and create text annotations.\n",
        "    fmt = '.2f' if normalize else 'd'\n",
        "    thresh = (cm.max() - cm.min() ) / 2.  + cm.min()\n",
        "    for i in range(cm.shape[0]):\n",
        "        for j in range(cm.shape[1]):\n",
        "\n",
        "            ax.text(j, i, format(cm[i, j], fmt) + r'$\\%$' ,\n",
        "                    ha=\"center\", va=\"center\",\n",
        "                    color=\"white\" if cm[i, j] > thresh else \"black\")\n",
        "    \n",
        "    fig.tight_layout()\n",
        "    return ax, fig"
      ],
      "id": "h5-32FcOkzXt"
    },
    {
      "cell_type": "code",
      "execution_count": null,
      "metadata": {
        "colab": {
          "background_save": true
        },
        "id": "n75y2HE0lOzp",
        "outputId": "2d78cfcc-4b6f-4260-d162-7bbb1acf4363"
      },
      "outputs": [
        {
          "name": "stdout",
          "output_type": "stream",
          "text": [
            "Normalized confusion matrix\n"
          ]
        },
        {
          "data": {
            "text/plain": [
              "(<matplotlib.axes._subplots.AxesSubplot at 0x7ff98972cb10>,\n",
              " <Figure size 544x544 with 2 Axes>)"
            ]
          },
          "execution_count": null,
          "metadata": {},
          "output_type": "execute_result"
        },
        {
          "data": {
            "image/png": "[encoded data removed]",
            "text/plain": [
              "<Figure size 544x544 with 2 Axes>"
            ]
          },
          "metadata": {},
          "output_type": "display_data"
        }
      ],
      "source": [
        "custom_confusion_matrix(y_test, predictions_classes,np.array(['AGN','SN','VS','Asteroids','Bogus']),normalize=True,plot_size = (6.8,6.8))"
      ],
      "id": "n75y2HE0lOzp"
    },
    {
      "cell_type": "code",
      "execution_count": null,
      "metadata": {
        "colab": {
          "background_save": true
        },
        "id": "AxhQk_d0dE1R",
        "outputId": "2146f6b6-f3a3-4cc3-e734-bcf1d4f0bf6f"
      },
      "outputs": [
        {
          "name": "stdout",
          "output_type": "stream",
          "text": [
            "Showing summaries at ./logs\n"
          ]
        },
        {
          "data": {
            "application/javascript": [
              "\n",
              "        (async () => {\n",
              "            const url = new URL(await google.colab.kernel.proxyPort(6006, {'cache': true}));\n",
              "            url.searchParams.set('tensorboardColab', 'true');\n",
              "            const iframe = document.createElement('iframe');\n",
              "            iframe.src = url;\n",
              "            iframe.setAttribute('width', '100%');\n",
              "            iframe.setAttribute('height', '800');\n",
              "            iframe.setAttribute('frameborder', 0);\n",
              "            document.body.appendChild(iframe);\n",
              "        })();\n",
              "    "
            ],
            "text/plain": [
              "<IPython.core.display.Javascript object>"
            ]
          },
          "metadata": {},
          "output_type": "display_data"
        }
      ],
      "source": [
        "LOG_DIR = './logs'\n",
        "print(\"Showing summaries at %s\" % (LOG_DIR))\n",
        "\n",
        "%load_ext tensorboard\n",
        "%tensorboard --logdir='$LOG_DIR'"
      ],
      "id": "AxhQk_d0dE1R"
    },
    {
      "cell_type": "markdown",
      "metadata": {
        "id": "guJFo9zRkZYg"
      },
      "source": [
        "- Juntar dataset imagenes y labels\n",
        "- Hacerle shuffle y separar en train, valid, test\n",
        "- Oversampling y Data Augmentation \n",
        "- Terminar pre-procesamiento metadata (outliers)\n",
        "- Agregar metadata a la red\n",
        "- Probar clasificación 5 clases vs Binaria\n",
        "- Probar red de los papers, y otras famosas vista en clase"
      ],
      "id": "guJFo9zRkZYg"
    }
  ],
  "metadata": {
    "accelerator": "GPU",
    "colab": {
      "collapsed_sections": [],
      "name": "ModeloFinal_Proyecto_7.ipynb",
      "provenance": []
    },
    "kernelspec": {
      "display_name": "Python 3 (ipykernel)",
      "language": "python",
      "name": "python3"
    },
    "language_info": {
      "codemirror_mode": {
        "name": "ipython",
        "version": 3
      },
      "file_extension": ".py",
      "mimetype": "text/x-python",
      "name": "python",
      "nbconvert_exporter": "python",
      "pygments_lexer": "ipython3",
      "version": "3.8.11"
    }
  },
  "nbformat": 4,
  "nbformat_minor": 5
}