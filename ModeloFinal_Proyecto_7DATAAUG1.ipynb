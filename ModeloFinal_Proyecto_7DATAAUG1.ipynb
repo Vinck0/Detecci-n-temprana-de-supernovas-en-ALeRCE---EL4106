{
  "cells": [
    {
      "cell_type": "code",
      "execution_count": null,
      "metadata": {
        "colab": {
          "base_uri": "https://localhost:8080/"
        },
        "id": "k7W3zDrz3sy5",
        "outputId": "cdb36483-6648-4471-9ba1-209144b322d7"
      },
      "outputs": [
        {
          "output_type": "stream",
          "name": "stdout",
          "text": [
            "Drive already mounted at /content/drive; to attempt to forcibly remount, call drive.mount(\"/content/drive\", force_remount=True).\n"
          ]
        }
      ],
      "source": [
        "from google.colab import drive\n",
        "drive.mount('/content/drive')"
      ],
      "id": "k7W3zDrz3sy5"
    },
    {
      "cell_type": "code",
      "execution_count": null,
      "metadata": {
        "id": "utjF61Eki2vt"
      },
      "outputs": [],
      "source": [
        "# from google.colab import files\n",
        "# uploaded= files.upload()"
      ],
      "id": "utjF61Eki2vt"
    },
    {
      "cell_type": "code",
      "execution_count": null,
      "metadata": {
        "id": "12047dee"
      },
      "outputs": [],
      "source": [
        "#archivo pkl\n",
        "\n",
        "import pickle\n",
        "import numpy as np\n",
        "import seaborn as sns\n",
        "import pandas as pd\n",
        "import random\n",
        "import matplotlib.pyplot as plt\n",
        "import tensorflow as tf\n",
        "from tensorflow import keras\n",
        "from tensorflow.keras import preprocessing\n",
        "from tensorflow.keras import models,layers\n",
        "from sklearn.model_selection import train_test_split\n",
        "from sklearn.metrics import precision_recall_fscore_support as score\n",
        "from sklearn.metrics import accuracy_score\n",
        "from sklearn.metrics import confusion_matrix\n",
        "from sklearn import preprocessing\n",
        "import matplotlib.gridspec as gridspec\n",
        "from sklearn.metrics import roc_curve, auc, accuracy_score, confusion_matrix,  precision_score\n",
        "from sklearn.utils.multiclass import unique_labels\n",
        "from sklearn.preprocessing import (OneHotEncoder, label_binarize, LabelEncoder )\n",
        "import collections\n",
        "import time\n",
        "from keras.layers import (Conv1D, MaxPool1D, Dropout, Flatten, Dense,\n",
        "                          Input, concatenate,Reshape)\n",
        "\n",
        "from keras.models import Model, Sequential\n",
        "\n",
        "#cargar archivos dataset (es como dataset mnist)\n",
        "with open('/content/drive/MyDrive/u/Colab Notebooks/New inteligence/Alerce/Copia de ALERCE_stamps_2020.pkl', 'rb') as f:\n",
        "    data = pickle.load(f)\n",
        "# with open('/content/drive/MyDrive/u/Colab Notebooks/New inteligence/Alerce/preproc.txt.npy', 'rb') as g:\n",
        "#     images_dataset_pre_proc_2 = np.load(g)\n",
        "\n"
      ],
      "id": "12047dee"
    },
    {
      "cell_type": "code",
      "execution_count": null,
      "metadata": {
        "id": "xZay6Zk9fBYq"
      },
      "outputs": [],
      "source": [
        "images, labels, metadata = list(data.values())"
      ],
      "id": "xZay6Zk9fBYq"
    },
    {
      "cell_type": "markdown",
      "metadata": {
        "id": "d60dfa04"
      },
      "source": [
        "Alert Classification for the ALeRCE Broker System: The Real-time Stamp Classier\n",
        "\n",
        "\"The alert packet contains three images called stamps, which are cropped at 63 pixels on a side (1 pixel = 1 arcsec) from the original image and centered on the position of the source.\""
      ],
      "id": "d60dfa04"
    },
    {
      "cell_type": "code",
      "execution_count": null,
      "metadata": {
        "id": "f0689184"
      },
      "outputs": [],
      "source": [
        "#convertimos el diccionario a array\n",
        "images_dataset = np.array(images,dtype=object)\n",
        "labels_dataset = np.array(labels)\n",
        "metdat_dataset = np.array(metadata)\n",
        "data_keys = np.array(list(data))"
      ],
      "id": "f0689184"
    },
    {
      "cell_type": "code",
      "execution_count": null,
      "metadata": {
        "id": "7uwBJjyWCeBa"
      },
      "outputs": [],
      "source": [
        "#plot distribution metadata\n",
        "#all images\n",
        "metadata_keys = ['sgscore1', 'distpsnr1', 'sgscore2', 'distpsnr2', 'sgscore3',\n",
        "   'distpsnr3', 'isdiffpos', 'fwhm', 'magpsf', 'sigmapsf',\n",
        "   'ra', 'dec', 'diffmaglim', 'classtar', 'ndethist',\n",
        "   'ncovhist', 'ecl_lat', 'ecl_long', 'gal_lat', 'gal_long',\n",
        "   'non_detections', \"chinr\", \"sharpnr\"]"
      ],
      "id": "7uwBJjyWCeBa"
    },
    {
      "cell_type": "code",
      "execution_count": null,
      "metadata": {
        "id": "1N1415rP2gFt"
      },
      "outputs": [],
      "source": [
        "scaler= preprocessing.StandardScaler()"
      ],
      "id": "1N1415rP2gFt"
    },
    {
      "cell_type": "code",
      "execution_count": null,
      "metadata": {
        "id": "cFbHUm_58Nu8"
      },
      "outputs": [],
      "source": [
        "metadatapd= pd.DataFrame(metdat_dataset,columns=metadata_keys)"
      ],
      "id": "cFbHUm_58Nu8"
    },
    {
      "cell_type": "code",
      "execution_count": null,
      "metadata": {
        "id": "xQvkxnhk-BpU"
      },
      "outputs": [],
      "source": [
        "# Define limites speriores e inferiores. Mismo orden que como estan las clases.\n",
        "upper_limits = [None, None, None, None, None, None, None, 25  , None, None, None, None,  None, None,  200,  2100, None,    None, \n",
        "                None,    None,  2100,    None, None]\n",
        "\n",
        "lower_limits = [-1,   -1,   -1,   -1,   -1,   -1,   None, None, None, None, None, None,  None, None,  None, None, None,   None, \n",
        "                None,    None,  None,    -1,   -1]\n"
      ],
      "id": "xQvkxnhk-BpU"
    },
    {
      "cell_type": "markdown",
      "metadata": {
        "id": "uTjjXm1FGlKg"
      },
      "source": [
        "Queda propuesto modificar outliers por clase, para mejor desempeño."
      ],
      "id": "uTjjXm1FGlKg"
    },
    {
      "cell_type": "code",
      "execution_count": null,
      "metadata": {
        "id": "P71ZTwpp83t9"
      },
      "outputs": [],
      "source": [
        "metadatapd_limits = metadatapd.copy()\n",
        "for i in range(len(metadata_keys)):\n",
        "  metadatapd_limits[metadata_keys[i]].clip(lower=lower_limits[i], upper=upper_limits[i], inplace=True)"
      ],
      "id": "P71ZTwpp83t9"
    },
    {
      "cell_type": "code",
      "execution_count": null,
      "metadata": {
        "id": "Fsr7NUYb9ot6"
      },
      "outputs": [],
      "source": [
        "# Se normalizan los datos mediante StandardScaler.\n",
        "# Entrega array que puede ser util para pasar a tensor y/o para usar en entrenamiento\n",
        "metadatapd_normalized = scaler.fit_transform(metadatapd_limits)"
      ],
      "id": "Fsr7NUYb9ot6"
    },
    {
      "cell_type": "code",
      "execution_count": null,
      "metadata": {
        "id": "Y8QLMcJQBJGM"
      },
      "outputs": [],
      "source": [
        "metadatapd_normalized_pd = pd.DataFrame(metadatapd_normalized,columns=metadata_keys)"
      ],
      "id": "Y8QLMcJQBJGM"
    },
    {
      "cell_type": "code",
      "execution_count": null,
      "metadata": {
        "id": "P4EwejYoDWMm"
      },
      "outputs": [],
      "source": [
        "\n",
        "def center_crop(img, new_width=41, new_height=41):        \n",
        "\n",
        "    width = img.shape[1]\n",
        "    height = img.shape[0]\n",
        "\n",
        "    if new_width is None:\n",
        "        new_width = min(width, height)\n",
        "\n",
        "    if new_height is None:\n",
        "        new_height = min(width, height)\n",
        "\n",
        "    left = int(np.ceil((width - new_width) / 2))\n",
        "    right = width - int(np.floor((width - new_width) / 2))\n",
        "\n",
        "    top = int(np.ceil((height - new_height) / 2))\n",
        "    bottom = height - int(np.floor((height - new_height) / 2))\n",
        "\n",
        "    if len(img.shape) == 2:\n",
        "        center_cropped_img = img[top:bottom, left:right]\n",
        "    else:\n",
        "        center_cropped_img = img[top:bottom, left:right, ...]\n",
        "\n",
        "    return center_cropped_img\n"
      ],
      "id": "P4EwejYoDWMm"
    },
    {
      "cell_type": "code",
      "execution_count": null,
      "metadata": {
        "colab": {
          "base_uri": "https://localhost:8080/"
        },
        "id": "B8bvCw_RFpG1",
        "outputId": "1df62857-b799-4015-c5db-ae3de18b46dc"
      },
      "outputs": [
        {
          "output_type": "stream",
          "name": "stdout",
          "text": [
            "(52244, 24, 24, 3)\n",
            "Tiempo de preprocesamiento: 25.66292428970337[s]\n"
          ]
        }
      ],
      "source": [
        "t_i_preproc= time.time()\n",
        "\n",
        "scalerMinMax = preprocessing.MinMaxScaler(feature_range=(-1,1))\n",
        "# tamaño final que se corta la imagen\n",
        "img_crop = 24 #41\n",
        "images_dataset_pre_proc_2 = np.zeros((52244,img_crop,img_crop,3))\n",
        "\n",
        "img_shape = (img_crop,img_crop,3)\n",
        "\n",
        "# Se normalizan las imagenes y se recortan todos los valores y se transforman los valores nan a 0.\n",
        "\n",
        "# Se aplica la transformacion a cada canal independiendte\n",
        "# https://stackoverflow.com/questions/37751717/why-does-minmaxscaler-add-lines-to-image\n",
        "for i in range(52243):\n",
        "  images_dataset_pre_proc_2[i] = scalerMinMax.fit_transform(np.array([np.nan_to_num(center_crop(\n",
        "      images_dataset[i][:,:,0],new_width=img_crop, new_height=img_crop), copy=True, nan=0.0),\n",
        "      np.nan_to_num(center_crop(images_dataset[i][:,:,1],new_width=img_crop, new_height=img_crop), copy=True, nan=0.0),\n",
        "      np.nan_to_num(center_crop(images_dataset[i][:,:,2],new_width=img_crop, new_height=img_crop), copy=True, nan=0.0)]\n",
        "      ).T.reshape(-1,3)).reshape(img_shape)\n",
        "  \n",
        "t_f_preproc= time.time()\n",
        "print(images_dataset_pre_proc_2.shape)\n",
        "print(f'Tiempo de preprocesamiento: {t_f_preproc-t_i_preproc}[s]')"
      ],
      "id": "B8bvCw_RFpG1"
    },
    {
      "cell_type": "code",
      "metadata": {
        "id": "yHZ8efbQX7Tc",
        "colab": {
          "base_uri": "https://localhost:8080/"
        },
        "outputId": "d653626e-8e5b-4319-c5e5-c1e32f7192d4"
      },
      "source": [
        "!pip install tensorflow_addons"
      ],
      "execution_count": null,
      "outputs": [
        {
          "output_type": "stream",
          "name": "stdout",
          "text": [
            "Requirement already satisfied: tensorflow_addons in /usr/local/lib/python3.7/dist-packages (0.15.0)\n",
            "Requirement already satisfied: typeguard>=2.7 in /usr/local/lib/python3.7/dist-packages (from tensorflow_addons) (2.7.1)\n"
          ]
        }
      ],
      "id": "yHZ8efbQX7Tc"
    },
    {
      "cell_type": "code",
      "metadata": {
        "id": "pDnCDaFqX4QM"
      },
      "source": [
        "import tensorflow_addons as tfa"
      ],
      "execution_count": null,
      "outputs": [],
      "id": "pDnCDaFqX4QM"
    },
    {
      "cell_type": "code",
      "metadata": {
        "id": "lpzgk3SreRAk"
      },
      "source": [
        "@tf.function\n",
        "def dataaug(img):\n",
        "  image_down=tfa.image.translate(img,[0,1],fill_mode='nearest')  #down\n",
        "  image_right=tfa.image.translate(img,[1,0],fill_mode='nearest') #right\n",
        "  image_up=tfa.image.translate(img,[0,-1],fill_mode='nearest')  #up\n",
        "  image_left=tfa.image.translate(img,[-1,0],fill_mode='nearest')  #left\n",
        "  return [image_up,image_down,image_left,image_right]"
      ],
      "execution_count": null,
      "outputs": [],
      "id": "lpzgk3SreRAk"
    },
    {
      "cell_type": "code",
      "execution_count": null,
      "metadata": {
        "id": "IvAyZ4gKT0WI"
      },
      "outputs": [],
      "source": [
        "data_metadata = np.asarray(metadatapd_limits).astype('float32')\n",
        "data_umap = False\n",
        "data_tnse = False\n",
        "if data_umap:\n",
        "  reducer = umap.UMAP(n_neighbors=20 , n_components=10, learning_rate=1, min_dist=0.0125, random_state=4106)\n",
        "  data_metadata = reducer.fit_transform(np.asarray(metadatapd_limits).astype('float32'))\n",
        "if (not data_umap) and data_tnse:\n",
        "  t_sne = TSNE(n_components=2, perplexity=30, learning_rate=400, random_state=4106)\n",
        "  data_metadata = t_sne.fit_transform(np.asarray(metadatapd_limits).astype('float32'))\n"
      ],
      "id": "IvAyZ4gKT0WI"
    },
    {
      "cell_type": "code",
      "execution_count": null,
      "metadata": {
        "id": "jzODvfY4Rjkh"
      },
      "outputs": [],
      "source": [
        "# Se obtienen los sets de entrenamiento, validación y prueba de imagenes\n",
        "X_train, X_test, y_train, y_test = \\\n",
        "            train_test_split(images_dataset_pre_proc_2, labels_dataset, test_size=0.2, random_state=4106,stratify=labels_dataset)\n",
        "\n",
        "X_train, X_val, y_train, y_val = \\\n",
        "            train_test_split(X_train, y_train, test_size=0.25, random_state=4106,stratify=y_train) # 0.25 x 0.8 = 0.2"
      ],
      "id": "jzODvfY4Rjkh"
    },
    {
      "cell_type": "code",
      "execution_count": null,
      "metadata": {
        "colab": {
          "base_uri": "https://localhost:8080/"
        },
        "id": "WfPu6p3jWb_F",
        "outputId": "b6e07437-4385-4059-8cea-edc37b64eb47"
      },
      "outputs": [
        {
          "output_type": "stream",
          "name": "stdout",
          "text": [
            "Clase 0: 14966. Clase 1: 1620. Clase 2: 14996. Clase 3: 9899. Clase 4: 10763\n",
            "52244\n"
          ]
        }
      ],
      "source": [
        "print(f'Clase 0: {sum(labels_dataset == 0)}. Clase 1: {sum(labels_dataset == 1)}. Clase 2: {sum(labels_dataset == 2)}. Clase 3: {sum(labels_dataset == 3)}. Clase 4: {sum(labels_dataset == 4)}')\n",
        "print(sum(labels_dataset == 0)+sum(labels_dataset == 1)+sum(labels_dataset == 2)+sum(labels_dataset == 3)+sum(labels_dataset == 4))"
      ],
      "id": "WfPu6p3jWb_F"
    },
    {
      "cell_type": "code",
      "execution_count": null,
      "metadata": {
        "colab": {
          "base_uri": "https://localhost:8080/"
        },
        "id": "ayDL-ZEFQm9X",
        "outputId": "c8ba8294-b893-488f-923b-76654d24cceb"
      },
      "outputs": [
        {
          "output_type": "stream",
          "name": "stdout",
          "text": [
            "TRAIN: Clase 0: 8980. Clase 1: 972. Clase 2: 8998. Clase 3: 5939. Clase 4: 6457\n",
            "31346\n",
            "VALIDATION: Clase 0: 2993. Clase 1: 324. Clase 2: 2999. Clase 3: 1980. Clase 4: 2153\n",
            "10449\n",
            "TEST: Clase 0: 2993. Clase 1: 324. Clase 2: 2999. Clase 3: 1980. Clase 4: 2153\n",
            "10449\n"
          ]
        }
      ],
      "source": [
        "print(f'TRAIN: Clase 0: {sum(y_train == 0)}. Clase 1: {sum(y_train == 1)}. Clase 2: {sum(y_train == 2)}. Clase 3: {sum(y_train == 3)}. Clase 4: {sum(y_train == 4)}')\n",
        "print(sum(y_train == 0)+sum(y_train == 1)+sum(y_train == 2)+sum(y_train == 3)+sum(y_train == 4))\n",
        "\n",
        "print(f'VALIDATION: Clase 0: {sum(y_val == 0)}. Clase 1: {sum(y_val == 1)}. Clase 2: {sum(y_val == 2)}. Clase 3: {sum(y_val == 3)}. Clase 4: {sum(y_val == 4)}')\n",
        "print(sum(y_val == 0)+sum(y_val == 1)+sum(y_val == 2)+sum(y_val == 3)+sum(y_val == 4))\n",
        "\n",
        "print(f'TEST: Clase 0: {sum(y_test == 0)}. Clase 1: {sum(y_test == 1)}. Clase 2: {sum(y_test == 2)}. Clase 3: {sum(y_test == 3)}. Clase 4: {sum(y_test == 4)}')\n",
        "print(sum(y_test == 0)+sum(y_test == 1)+sum(y_test == 2)+sum(y_test == 3)+sum(y_test == 4))"
      ],
      "id": "ayDL-ZEFQm9X"
    },
    {
      "cell_type": "code",
      "execution_count": null,
      "metadata": {
        "id": "UaXodKLiruQ5"
      },
      "outputs": [],
      "source": [
        "# Se obtienen los sets de entrenamiento, validación y prueba de metadatos\n",
        "X_train_metadata, X_test_metadata, y_train_metadata, y_test_metadata = \\\n",
        "            train_test_split(data_metadata, labels_dataset, test_size=0.2,\n",
        "                             random_state=4106, stratify=labels_dataset)\n",
        "\n",
        "X_train_metadata, X_val_metadata, y_train_metadata, y_val_metadata = \\\n",
        "            train_test_split(X_train_metadata, y_train_metadata, test_size=0.25, random_state=4106, stratify=y_train_metadata) # 0.25 x 0.8 = 0.2"
      ],
      "id": "UaXodKLiruQ5"
    },
    {
      "cell_type": "code",
      "execution_count": null,
      "metadata": {
        "id": "05qG-831NHPg"
      },
      "outputs": [],
      "source": [
        "X_train_metadata = scaler.fit_transform(X_train_metadata)\n",
        "X_val_metadata = scaler.transform(X_val_metadata)\n",
        "X_test_metadata = scaler.transform(X_test_metadata)"
      ],
      "id": "05qG-831NHPg"
    },
    {
      "cell_type": "code",
      "source": [
        "# Se generan las nueuvas imagenes mediante Data Augmentation\n",
        "pos_SN=np.array(y_train==1)\n",
        "positions=np.arange(len(pos_SN))\n",
        "more_images=[]\n",
        "more_metadata=[]\n",
        "\n",
        "for j in range(4):\n",
        "  for position in positions:\n",
        "    if pos_SN[position] == True:\n",
        "      channel1 = dataaug(X_train[position][:,:,0])\n",
        "      channel2 = dataaug(X_train[position][:,:,1])\n",
        "      channel3 = dataaug(X_train[position][:,:,2])\n",
        "      rotate = random.randint(1,4)\n",
        "      if rotate == 1: #up\n",
        "          img = np.array([channel1[0],channel2[0],channel3[0]]).T\n",
        "      if rotate == 2: #down\n",
        "          img = np.array([channel1[1],channel2[1],channel3[1]]).T\n",
        "      if rotate == 3: #left\n",
        "          img = np.array([channel1[2],channel2[2],channel3[2]]).T\n",
        "      if rotate == 4: #rigth\n",
        "          img = np.array([channel1[3],channel2[3],channel3[3]]).T\n",
        "      more_images.append(img)\n",
        "      more_metadata.append(X_train_metadata[position])\n"
      ],
      "metadata": {
        "id": "BJVS_szBvfE6"
      },
      "id": "BJVS_szBvfE6",
      "execution_count": null,
      "outputs": []
    },
    {
      "cell_type": "code",
      "source": [
        "len(more_images)"
      ],
      "metadata": {
        "colab": {
          "base_uri": "https://localhost:8080/"
        },
        "id": "5JaVm3VnZz70",
        "outputId": "65bcac69-5369-417f-c1a2-801c331cad21"
      },
      "id": "5JaVm3VnZz70",
      "execution_count": null,
      "outputs": [
        {
          "output_type": "execute_result",
          "data": {
            "text/plain": [
              "3888"
            ]
          },
          "metadata": {},
          "execution_count": 27
        }
      ]
    },
    {
      "cell_type": "code",
      "source": [
        "# Se agregan las clases nuevas respectivas\n",
        "labels_dataaug = np.ones((len(more_images),), dtype=int)"
      ],
      "metadata": {
        "id": "3aCUwFDHCiX6"
      },
      "execution_count": null,
      "outputs": [],
      "id": "3aCUwFDHCiX6"
    },
    {
      "cell_type": "code",
      "source": [
        "# Se junta el dataset de train con las imagenes nueuvas\n",
        "imagenes = np.concatenate((X_train,more_images),axis=0)\n",
        "lab = np.concatenate((y_train,labels_dataaug),axis=0)"
      ],
      "metadata": {
        "id": "A5Q20sxjvUno"
      },
      "execution_count": null,
      "outputs": [],
      "id": "A5Q20sxjvUno"
    },
    {
      "cell_type": "code",
      "source": [
        "# Se junta el dataset de train con los metadatos\n",
        "metadata_augmentation = np.concatenate((X_train_metadata,more_metadata),axis=0)"
      ],
      "metadata": {
        "id": "1309ilIdFOYh"
      },
      "id": "1309ilIdFOYh",
      "execution_count": null,
      "outputs": []
    },
    {
      "cell_type": "code",
      "source": [
        "# Se revuelven los datos de entrenamiento\n",
        "# es el mismo shuffle para X_train, X_train_metadata, y_train\n",
        "shuffler = np.random.permutation(imagenes.shape[0])\n",
        "\n",
        "imagenes = imagenes[shuffler]\n",
        "metadata_augmentation = metadata_augmentation[shuffler]\n",
        "lab = lab[shuffler]"
      ],
      "metadata": {
        "id": "wJp9nTCuTN2I"
      },
      "id": "wJp9nTCuTN2I",
      "execution_count": null,
      "outputs": []
    },
    {
      "cell_type": "code",
      "execution_count": null,
      "metadata": {
        "id": "ctNcJbe1dLId"
      },
      "outputs": [],
      "source": [
        "assert (y_train == y_train_metadata).all\n",
        "assert (y_val == y_val_metadata).all\n",
        "assert (y_test == y_test_metadata).all"
      ],
      "id": "ctNcJbe1dLId"
    },
    {
      "cell_type": "code",
      "execution_count": null,
      "metadata": {
        "id": "lMjB4Dxqp8_u"
      },
      "outputs": [],
      "source": [
        "# Se define el modelo\n",
        "\n",
        "model2 = False\n",
        "\n",
        "# Input imagenes\n",
        "sequence = Input(shape=(img_crop, img_crop, 3), name='Sequence')\n",
        "# Input metadata\n",
        "features = Input(shape=(23,), name='Features')\n",
        "\n",
        "# Se define red convolucional de cyclic pooling\n",
        "model = models.Sequential()\n",
        "model.add(layers.ZeroPadding2D(padding=1,input_shape=(img_crop,img_crop,3)))\n",
        "model.add(layers.Conv2D(32, (4, 4), activation='relu'))#, input_shape=(41, 41, 3)))\n",
        "model.add(layers.Conv2D(32, (3, 3), activation='relu',padding='same'))\n",
        "model.add(layers.MaxPooling2D((2, 2),strides=2))\n",
        "model.add(layers.Conv2D(64, (3, 3), activation='relu',padding='same'))\n",
        "model.add(layers.Conv2D(64, (3, 3), activation='relu',padding='same'))\n",
        "model.add(layers.Conv2D(64, (3, 3), activation='relu',padding='same'))\n",
        "model.add(layers.MaxPooling2D((2, 2),strides=2))\n",
        "model.add(layers.Flatten())\n",
        "model.add(layers.Dense(64, activation='relu'))\n",
        "\n",
        "# Se aplica la red para cada rotacion\n",
        "part1 = model(sequence)\n",
        "part2 = model(tf.image.rot90(sequence, k=1))\n",
        "part3 = model(tf.image.rot90(sequence, k=2))\n",
        "part4 = model(tf.image.rot90(sequence, k=3))\n",
        "\n",
        "# Se obtiene cyclic pooling\n",
        "cyclic_pooling = tf.keras.layers.Average()([part1,part2,part3,part4])\n",
        " \n",
        "# Capas densas después de cyclic pooling\n",
        "\n",
        "if model2:\n",
        "  cyclic_pooling = layers.Dense(128, activation='relu')(cyclic_pooling)\n",
        "  cyclic_pooling = layers.Dense(64, activation='relu')(part_cypool)\n",
        "\n",
        "# Batch normalization para metadatos\n",
        "part_md = layers.BatchNormalization(axis=1, momentum=0.99, epsilon=0.001)(features)\n",
        "\n",
        "# Se concatenan salida de cyclic pooling con metadatos \n",
        "merged = concatenate([cyclic_pooling, part_md])\n",
        "\n",
        "# Se palica capas finales\n",
        "final= Dense(64, activation='relu')(merged)\n",
        "final= Dropout(0.5)(final)\n",
        "final= Dense(64, activation='relu')(final)\n",
        "# Se aplica capa final de salida\n",
        "final= Dense(units= 5, activation='softmax')(final)\n",
        "\n",
        "# Se define modelo final con las respectivas entradas\n",
        "model = models.Model(inputs=[sequence, features], outputs=[final])\n",
        "\n",
        "# Modelo auxiliar con salida el cyclic pooling\n",
        "model_aux = models.Model(inputs=[sequence], outputs=[cyclic_pooling])"
      ],
      "id": "lMjB4Dxqp8_u"
    },
    {
      "cell_type": "code",
      "execution_count": null,
      "metadata": {
        "id": "Sz5Rq6mtMhgk",
        "colab": {
          "base_uri": "https://localhost:8080/"
        },
        "outputId": "c9963591-b92f-4768-da70-854de19d64b5"
      },
      "outputs": [
        {
          "output_type": "stream",
          "name": "stdout",
          "text": [
            "Model: \"model\"\n",
            "__________________________________________________________________________________________________\n",
            " Layer (type)                   Output Shape         Param #     Connected to                     \n",
            "==================================================================================================\n",
            " Sequence (InputLayer)          [(None, 24, 24, 3)]  0           []                               \n",
            "                                                                                                  \n",
            " tf.image.rot90 (TFOpLambda)    (None, 24, 24, 3)    0           ['Sequence[0][0]']               \n",
            "                                                                                                  \n",
            " tf.image.rot90_1 (TFOpLambda)  (None, 24, 24, 3)    0           ['Sequence[0][0]']               \n",
            "                                                                                                  \n",
            " tf.image.rot90_2 (TFOpLambda)  (None, 24, 24, 3)    0           ['Sequence[0][0]']               \n",
            "                                                                                                  \n",
            " sequential (Sequential)        (None, 64)           205632      ['Sequence[0][0]',               \n",
            "                                                                  'tf.image.rot90[0][0]',         \n",
            "                                                                  'tf.image.rot90_1[0][0]',       \n",
            "                                                                  'tf.image.rot90_2[0][0]']       \n",
            "                                                                                                  \n",
            " Features (InputLayer)          [(None, 23)]         0           []                               \n",
            "                                                                                                  \n",
            " average (Average)              (None, 64)           0           ['sequential[0][0]',             \n",
            "                                                                  'sequential[1][0]',             \n",
            "                                                                  'sequential[2][0]',             \n",
            "                                                                  'sequential[3][0]']             \n",
            "                                                                                                  \n",
            " batch_normalization (BatchNorm  (None, 23)          92          ['Features[0][0]']               \n",
            " alization)                                                                                       \n",
            "                                                                                                  \n",
            " concatenate (Concatenate)      (None, 87)           0           ['average[0][0]',                \n",
            "                                                                  'batch_normalization[0][0]']    \n",
            "                                                                                                  \n",
            " dense_1 (Dense)                (None, 64)           5632        ['concatenate[0][0]']            \n",
            "                                                                                                  \n",
            " dropout (Dropout)              (None, 64)           0           ['dense_1[0][0]']                \n",
            "                                                                                                  \n",
            " dense_2 (Dense)                (None, 64)           4160        ['dropout[0][0]']                \n",
            "                                                                                                  \n",
            " dense_3 (Dense)                (None, 5)            325         ['dense_2[0][0]']                \n",
            "                                                                                                  \n",
            "==================================================================================================\n",
            "Total params: 215,841\n",
            "Trainable params: 215,795\n",
            "Non-trainable params: 46\n",
            "__________________________________________________________________________________________________\n"
          ]
        }
      ],
      "source": [
        "model.summary()"
      ],
      "id": "Sz5Rq6mtMhgk"
    },
    {
      "cell_type": "code",
      "execution_count": null,
      "metadata": {
        "id": "Kmgj8BflD8Qi",
        "colab": {
          "base_uri": "https://localhost:8080/"
        },
        "outputId": "5b2f723c-697c-442c-a76b-32b36ba3a578"
      },
      "outputs": [
        {
          "output_type": "stream",
          "name": "stdout",
          "text": [
            "Model: \"model_1\"\n",
            "__________________________________________________________________________________________________\n",
            " Layer (type)                   Output Shape         Param #     Connected to                     \n",
            "==================================================================================================\n",
            " Sequence (InputLayer)          [(None, 24, 24, 3)]  0           []                               \n",
            "                                                                                                  \n",
            " tf.image.rot90 (TFOpLambda)    (None, 24, 24, 3)    0           ['Sequence[0][0]']               \n",
            "                                                                                                  \n",
            " tf.image.rot90_1 (TFOpLambda)  (None, 24, 24, 3)    0           ['Sequence[0][0]']               \n",
            "                                                                                                  \n",
            " tf.image.rot90_2 (TFOpLambda)  (None, 24, 24, 3)    0           ['Sequence[0][0]']               \n",
            "                                                                                                  \n",
            " sequential (Sequential)        (None, 64)           205632      ['Sequence[0][0]',               \n",
            "                                                                  'tf.image.rot90[0][0]',         \n",
            "                                                                  'tf.image.rot90_1[0][0]',       \n",
            "                                                                  'tf.image.rot90_2[0][0]']       \n",
            "                                                                                                  \n",
            " average (Average)              (None, 64)           0           ['sequential[0][0]',             \n",
            "                                                                  'sequential[1][0]',             \n",
            "                                                                  'sequential[2][0]',             \n",
            "                                                                  'sequential[3][0]']             \n",
            "                                                                                                  \n",
            "==================================================================================================\n",
            "Total params: 205,632\n",
            "Trainable params: 205,632\n",
            "Non-trainable params: 0\n",
            "__________________________________________________________________________________________________\n"
          ]
        }
      ],
      "source": [
        "model_aux.summary()"
      ],
      "id": "Kmgj8BflD8Qi"
    },
    {
      "cell_type": "code",
      "execution_count": null,
      "metadata": {
        "id": "XK16pZemujE2"
      },
      "outputs": [],
      "source": [
        "# Se define early stopping\n",
        "callback = tf.keras.callbacks.EarlyStopping(monitor='val_accuracy', patience=5)"
      ],
      "id": "XK16pZemujE2"
    },
    {
      "cell_type": "code",
      "execution_count": null,
      "metadata": {
        "id": "ZtMSI8omT1zh"
      },
      "outputs": [],
      "source": [
        "\n",
        "def Entropy_Regularization(y_true,y_pred):\n",
        "  loss = tf.keras.losses.SparseCategoricalCrossentropy(from_logits=False)\n",
        "  cross_entropy = loss(y_true=y_true, y_pred=y_pred)\n",
        "  \n",
        "  loss_2 = tf.keras.losses.CategoricalCrossentropy(from_logits=False)\n",
        "  regul = loss_2(y_true=y_pred, y_pred=y_pred)\n",
        "\n",
        "  Loss = cross_entropy - 0.5*regul\n",
        "  return Loss"
      ],
      "id": "ZtMSI8omT1zh"
    },
    {
      "cell_type": "code",
      "execution_count": null,
      "metadata": {
        "id": "AE3DH8eOMd7A"
      },
      "outputs": [],
      "source": [
        "# Se define funcion Loss y optimizador\n",
        "opt = tf.keras.optimizers.Adam(\n",
        "    learning_rate=0.001, beta_1=0.5, beta_2=0.9,amsgrad=True,name='Adam')\n",
        "loss_model = tf.keras.losses.SparseCategoricalCrossentropy(from_logits=False)\n",
        "# loss_model = Entropy_Regularization\n",
        "\n",
        "model.compile(optimizer=opt,\n",
        "             loss=loss_model,\n",
        "             metrics=['accuracy'])\n"
      ],
      "id": "AE3DH8eOMd7A"
    },
    {
      "cell_type": "code",
      "execution_count": null,
      "metadata": {
        "id": "a_ZxxNPqXVy1"
      },
      "outputs": [],
      "source": [
        "# Se definen pesos para introducir a la red\n",
        "# Clase 0: 14966. Clase 1: 1620. Clase 2: 14996. Clase 3: 9899. Clase 4: 10763\n",
        "c_0, c_1, c_2, c_3, c_4 = 14966, 1620, 14996, 9899, 10763\n",
        "n = 14966 + 1620 + 14996 + 9899 + 10763\n",
        "w_0, w_1, w_2, w_3, w_4 = 10000*n/c_0**2, 1000000*n/c_1**2, 10000*n/c_2**2, 100000*n/c_3**2, 100000*n/c_4**2\n",
        "class_weight = {0: w_0,\n",
        "                1: w_1,\n",
        "                2: w_2,\n",
        "                3: w_3,\n",
        "                4: w_4}\n",
        "\n",
        "print( w_0, w_1, w_2, w_3, w_4 )"
      ],
      "id": "a_ZxxNPqXVy1"
    },
    {
      "cell_type": "code",
      "execution_count": null,
      "metadata": {
        "id": "PtegW3jI-BDu",
        "colab": {
          "base_uri": "https://localhost:8080/"
        },
        "outputId": "f9625ffb-b527-4f59-ac36-6fd63aa79c42"
      },
      "outputs": [
        {
          "output_type": "stream",
          "name": "stdout",
          "text": [
            "Epoch 1/50\n",
            "1102/1102 [==============================] - 54s 36ms/step - loss: 0.5800 - accuracy: 0.7909 - val_loss: 0.3168 - val_accuracy: 0.8906\n",
            "Epoch 2/50\n",
            "1102/1102 [==============================] - 38s 35ms/step - loss: 0.3940 - accuracy: 0.8651 - val_loss: 0.2530 - val_accuracy: 0.9146\n",
            "Epoch 3/50\n",
            "1102/1102 [==============================] - 39s 35ms/step - loss: 0.3518 - accuracy: 0.8785 - val_loss: 0.2622 - val_accuracy: 0.9108\n",
            "Epoch 4/50\n",
            "1102/1102 [==============================] - 38s 35ms/step - loss: 0.3209 - accuracy: 0.8899 - val_loss: 0.2437 - val_accuracy: 0.9164\n",
            "Epoch 5/50\n",
            "1102/1102 [==============================] - 40s 36ms/step - loss: 0.2983 - accuracy: 0.8979 - val_loss: 0.2371 - val_accuracy: 0.9200\n",
            "Epoch 6/50\n",
            "1102/1102 [==============================] - 38s 35ms/step - loss: 0.2792 - accuracy: 0.9049 - val_loss: 0.2076 - val_accuracy: 0.9323\n",
            "Epoch 7/50\n",
            "1102/1102 [==============================] - 38s 35ms/step - loss: 0.2668 - accuracy: 0.9098 - val_loss: 0.2152 - val_accuracy: 0.9264\n",
            "Epoch 8/50\n",
            "1102/1102 [==============================] - 38s 35ms/step - loss: 0.2589 - accuracy: 0.9131 - val_loss: 0.2352 - val_accuracy: 0.9166\n",
            "Epoch 9/50\n",
            "1102/1102 [==============================] - 38s 35ms/step - loss: 0.2490 - accuracy: 0.9158 - val_loss: 0.2195 - val_accuracy: 0.9257\n",
            "Epoch 10/50\n",
            "1102/1102 [==============================] - 38s 35ms/step - loss: 0.2408 - accuracy: 0.9191 - val_loss: 0.1988 - val_accuracy: 0.9312\n",
            "Epoch 11/50\n",
            "1102/1102 [==============================] - 38s 35ms/step - loss: 0.2330 - accuracy: 0.9216 - val_loss: 0.2317 - val_accuracy: 0.9204\n",
            "\n",
            "Entrenamiento finalizado\n",
            "Tiempo de entrenamiento: 437.99506640434265[s]\n"
          ]
        }
      ],
      "source": [
        "loss_cp_tr = [0] #historial de loss, 50 epocas\n",
        "loss_cp_val = [0]\n",
        "loss_plot_tr=[] #historial de loss para plot\n",
        "loss_plot_val=[]\n",
        "accuracy_plot_tr=[]\n",
        "accuracy_plot_val=[]\n",
        "recall_plot_tr=[]\n",
        "recall_plot_val=[]\n",
        "precision_plot_tr=[]\n",
        "precision_plot_val=[]\n",
        "f1score_plot_tr=[]\n",
        "f1score_plot_val=[]\n",
        "t_i_train=time.time()\n",
        "\n",
        "tb_callback = tf.keras.callbacks.TensorBoard('./logs', update_freq=1)\n",
        "#history = model.fit(X_train, y_train,batch_size = 64, epochs=50, callbacks=[tb_callback], validation_data=(X_val, y_val))\n",
        "history = model.fit([imagenes,metadata_augmentation], lab,batch_size = 32, epochs=50, callbacks=[callback], \n",
        "                    validation_data=([X_val,X_val_metadata], y_val), )#class_weight=class_weight)\n",
        "\n",
        "loss_plot_tr.append(history.history['loss'])\n",
        "loss_plot_val.append(history.history['val_loss'])\n",
        "accuracy_plot_tr.append(history.history['accuracy'])\n",
        "accuracy_plot_val.append(history.history['val_accuracy'])\n",
        "      \n",
        "t_f_train=time.time()\n",
        "print('\\nEntrenamiento finalizado')\n",
        "print(f'Tiempo de entrenamiento: {t_f_train-t_i_train}[s]')"
      ],
      "id": "PtegW3jI-BDu"
    },
    {
      "cell_type": "code",
      "source": [
        "model_aux.summary()"
      ],
      "metadata": {
        "id": "1WY9w9EcIvb9",
        "colab": {
          "base_uri": "https://localhost:8080/"
        },
        "outputId": "c3c093af-2d3a-4e11-a731-ec269d58a152"
      },
      "id": "1WY9w9EcIvb9",
      "execution_count": null,
      "outputs": [
        {
          "output_type": "stream",
          "name": "stdout",
          "text": [
            "Model: \"model_1\"\n",
            "__________________________________________________________________________________________________\n",
            " Layer (type)                   Output Shape         Param #     Connected to                     \n",
            "==================================================================================================\n",
            " Sequence (InputLayer)          [(None, 24, 24, 3)]  0           []                               \n",
            "                                                                                                  \n",
            " tf.image.rot90 (TFOpLambda)    (None, 24, 24, 3)    0           ['Sequence[0][0]']               \n",
            "                                                                                                  \n",
            " tf.image.rot90_1 (TFOpLambda)  (None, 24, 24, 3)    0           ['Sequence[0][0]']               \n",
            "                                                                                                  \n",
            " tf.image.rot90_2 (TFOpLambda)  (None, 24, 24, 3)    0           ['Sequence[0][0]']               \n",
            "                                                                                                  \n",
            " sequential (Sequential)        (None, 64)           205632      ['Sequence[0][0]',               \n",
            "                                                                  'tf.image.rot90[0][0]',         \n",
            "                                                                  'tf.image.rot90_1[0][0]',       \n",
            "                                                                  'tf.image.rot90_2[0][0]']       \n",
            "                                                                                                  \n",
            " average (Average)              (None, 64)           0           ['sequential[0][0]',             \n",
            "                                                                  'sequential[1][0]',             \n",
            "                                                                  'sequential[2][0]',             \n",
            "                                                                  'sequential[3][0]']             \n",
            "                                                                                                  \n",
            "==================================================================================================\n",
            "Total params: 205,632\n",
            "Trainable params: 205,632\n",
            "Non-trainable params: 0\n",
            "__________________________________________________________________________________________________\n"
          ]
        }
      ]
    },
    {
      "cell_type": "code",
      "execution_count": null,
      "metadata": {
        "id": "NfP-N_6j0C-R"
      },
      "outputs": [],
      "source": [
        "# model.save('/content/drive/MyDrive/u/Colab Notebooks/New inteligence/Alerce/modelo5')"
      ],
      "id": "NfP-N_6j0C-R"
    },
    {
      "cell_type": "code",
      "source": [
        "train_acc_history = np.array([run.history['accuracy'][-1] for run in stats_history])\n",
        "train_acc_mean = train_acc_history.mean()\n",
        "train_acc_std = train_acc_history.std()\n",
        "print('Train accuracy %.3f +/- %.3f' % (train_acc_mean, train_acc_std))\n",
        "print(train_acc_history)\n",
        "\n",
        "val_acc_history = np.array([run.history['val_accuracy'][-1] for run in stats_history])\n",
        "val_acc_mean = val_acc_history.mean()\n",
        "val_acc_std = val_acc_history.std()\n",
        "print('Validation accuracy %.3f +/- %.3f' % (val_acc_mean, val_acc_std))\n",
        "print(val_acc_history)\n"
      ],
      "metadata": {
        "colab": {
          "base_uri": "https://localhost:8080/"
        },
        "id": "dqJ0hQMGBk3b",
        "outputId": "113754bb-75e3-4955-ff38-37538f38c1ce"
      },
      "id": "dqJ0hQMGBk3b",
      "execution_count": null,
      "outputs": [
        {
          "output_type": "stream",
          "name": "stdout",
          "text": [
            "Train accuracy \n",
            "0.9216381907463074\n",
            "Validation accuracy \n",
            "0.9203751683235168\n"
          ]
        }
      ]
    },
    {
      "cell_type": "code",
      "source": [
        "arr = np.array([0.924,0.924,0.94])\n",
        "train_acc_mean = arr.mean()\n",
        "train_acc_std = arr.std()\n",
        "print(f'Mean ')\n",
        "print(train_acc_mean)\n",
        "\n",
        "print(f'Std ')\n",
        "print(train_acc_std)"
      ],
      "metadata": {
        "colab": {
          "base_uri": "https://localhost:8080/"
        },
        "id": "cnAZ6cUVGI7q",
        "outputId": "fdc671b0-93c4-4ebd-bfc6-288569cd1d06"
      },
      "id": "cnAZ6cUVGI7q",
      "execution_count": null,
      "outputs": [
        {
          "output_type": "stream",
          "name": "stdout",
          "text": [
            "Mean \n",
            "0.9293333333333335\n",
            "Std \n",
            "0.007542472332656461\n"
          ]
        }
      ]
    },
    {
      "cell_type": "code",
      "execution_count": null,
      "metadata": {
        "id": "72CBIZ6z-Mye",
        "colab": {
          "base_uri": "https://localhost:8080/",
          "height": 573
        },
        "outputId": "a8618989-554e-4d7b-9ca8-7a6070ffef10"
      },
      "outputs": [
        {
          "output_type": "display_data",
          "data": {
            "image/png": "[encoded data removed]",
            "text/plain": [
              "<Figure size 432x288 with 1 Axes>"
            ]
          },
          "metadata": {
            "needs_background": "light"
          }
        },
        {
          "output_type": "display_data",
          "data": {
            "image/png": "[encoded data removed]",
            "text/plain": [
              "<Figure size 432x288 with 1 Axes>"
            ]
          },
          "metadata": {
            "needs_background": "light"
          }
        }
      ],
      "source": [
        "import matplotlib.pyplot as plt\n",
        "def plot_history():\n",
        "  plt.figure()\n",
        "  plt.xlabel('Epoch')\n",
        "  plt.ylabel('Loss')\n",
        "  plt.title('Loss vs Epoch')\n",
        "  plt.plot(np.arange(len(loss_plot_tr[0])), loss_plot_tr[0], \n",
        "           label='Train')\n",
        "  plt.plot(np.arange(len(loss_plot_val[0])), loss_plot_val[0],\n",
        "           label = 'Val')\n",
        "  plt.legend()\n",
        "  #plt.ylim([0,1])\n",
        "\n",
        "def plot_accuracy():\n",
        "    plt.figure()\n",
        "    plt.xlabel('Epoch')\n",
        "    plt.ylabel('Accuracy')\n",
        "    plt.title('Accuracy vs Epoch')\n",
        "    plt.plot(np.arange(len(accuracy_plot_tr[0])), accuracy_plot_tr[0], \n",
        "            label='Train')\n",
        "    plt.plot(np.arange(len(accuracy_plot_val[0])), accuracy_plot_val[0],\n",
        "            label = 'Val')\n",
        "    plt.legend()\n",
        "    plt.ylim([0,1])\n",
        "\n",
        "plot_history()\n",
        "plot_accuracy()"
      ],
      "id": "72CBIZ6z-Mye"
    },
    {
      "cell_type": "code",
      "execution_count": null,
      "metadata": {
        "id": "uqFJamuAbCSh",
        "colab": {
          "base_uri": "https://localhost:8080/"
        },
        "outputId": "034bc341-9425-41dd-b188-69fc112e8cec"
      },
      "outputs": [
        {
          "output_type": "execute_result",
          "data": {
            "text/plain": [
              "Counter({0: 2993, 1: 324, 2: 2999, 3: 1980, 4: 2153})"
            ]
          },
          "metadata": {},
          "execution_count": 52
        }
      ],
      "source": [
        "# Cantidad de clases en set de validacion\n",
        "collections.Counter(y_val)\n"
      ],
      "id": "uqFJamuAbCSh"
    },
    {
      "cell_type": "code",
      "execution_count": null,
      "metadata": {
        "id": "VDYxROw9MdfQ",
        "colab": {
          "base_uri": "https://localhost:8080/"
        },
        "outputId": "2da81552-5086-417f-bdac-a448d3f67cc9"
      },
      "outputs": [
        {
          "output_type": "stream",
          "name": "stdout",
          "text": [
            "327/327 [==============================] - 6s 17ms/step - loss: 0.2195 - accuracy: 0.9244\n"
          ]
        },
        {
          "output_type": "execute_result",
          "data": {
            "text/plain": [
              "[0.21952809393405914, 0.9243946671485901]"
            ]
          },
          "metadata": {},
          "execution_count": 53
        }
      ],
      "source": [
        "results=model.evaluate((X_test,X_test_metadata),y_test)\n",
        "results"
      ],
      "id": "VDYxROw9MdfQ"
    },
    {
      "cell_type": "code",
      "execution_count": null,
      "metadata": {
        "id": "3UlC2m8qNbz6",
        "colab": {
          "base_uri": "https://localhost:8080/"
        },
        "outputId": "a128cbc9-4aea-4aec-97fe-32e4aca6e09a"
      },
      "outputs": [
        {
          "output_type": "execute_result",
          "data": {
            "text/plain": [
              "(10449,)"
            ]
          },
          "metadata": {},
          "execution_count": 54
        }
      ],
      "source": [
        "predictions = model.predict((X_test,X_test_metadata),)\n",
        "predictions_classes = np.argmax(predictions, axis=1)\n",
        "predictions_classes.shape"
      ],
      "id": "3UlC2m8qNbz6"
    },
    {
      "cell_type": "code",
      "execution_count": null,
      "metadata": {
        "id": "hyvkleNiW_0t",
        "colab": {
          "base_uri": "https://localhost:8080/"
        },
        "outputId": "b73cd297-c2f6-47f8-bf89-122ab215f714"
      },
      "outputs": [
        {
          "output_type": "execute_result",
          "data": {
            "text/plain": [
              "(10449,)"
            ]
          },
          "metadata": {},
          "execution_count": 55
        }
      ],
      "source": [
        "y_test.shape"
      ],
      "id": "hyvkleNiW_0t"
    },
    {
      "cell_type": "code",
      "execution_count": null,
      "metadata": {
        "id": "c_l4Jpi5WlIF",
        "colab": {
          "base_uri": "https://localhost:8080/"
        },
        "outputId": "5f1f4082-384b-4b63-971a-916ed1b10a71"
      },
      "outputs": [
        {
          "output_type": "stream",
          "name": "stdout",
          "text": [
            "0.92439467\n"
          ]
        }
      ],
      "source": [
        "acc = tf.keras.metrics.Accuracy()\n",
        "acc.update_state(predictions_classes,y_test)\n",
        "print(acc.result().numpy())"
      ],
      "id": "c_l4Jpi5WlIF"
    },
    {
      "cell_type": "code",
      "execution_count": null,
      "metadata": {
        "id": "AWBB1hymYs2F",
        "colab": {
          "base_uri": "https://localhost:8080/"
        },
        "outputId": "fe5da044-b951-4bad-81ed-7e04d670565b"
      },
      "outputs": [
        {
          "output_type": "stream",
          "name": "stdout",
          "text": [
            "accuracy: [0.85165386 0.77469136 0.97432477 0.96565657 0.94054807] , promedio accuracy 0.9013749260135224\n",
            "precision: [0.95899172 0.81758958 0.85363716 0.96565657 0.97308986], promedio precision 0.9137929772666841\n",
            "recall: [0.85165386 0.77469136 0.97432477 0.96565657 0.94054807], promedio recall 0.9013749260135224\n",
            "fscore: [0.90214121 0.7955626  0.90999689 0.96565657 0.95654228], promedio fscore 0.9059799082324635\n"
          ]
        }
      ],
      "source": [
        "# Metricas por Clase\n",
        "matrix = confusion_matrix(y_test, predictions_classes)\n",
        "acc = matrix.diagonal()/matrix.sum(axis=1)\n",
        "# acc = accuracy_score(y_test, predictions_classes)\n",
        "precision, recall, f1, _ = score(y_test, predictions_classes)\n",
        "\n",
        "print('accuracy: {} , promedio accuracy {}'.format(acc,np.mean(acc)))\n",
        "print('precision: {}, promedio precision {}'.format(precision,np.mean(precision)))\n",
        "print('recall: {}, promedio recall {}'.format(recall,np.mean(recall)))\n",
        "print('fscore: {}, promedio fscore {}'.format(f1,np.mean(f1)))"
      ],
      "id": "AWBB1hymYs2F"
    },
    {
      "cell_type": "code",
      "execution_count": null,
      "metadata": {
        "id": "1gsm3-nfzT1I"
      },
      "outputs": [],
      "source": [
        "pred=[]\n",
        "for elemento in predictions:\n",
        "  pred.append(np.where(elemento==elemento.max())[0][0])"
      ],
      "id": "1gsm3-nfzT1I"
    },
    {
      "cell_type": "code",
      "execution_count": null,
      "metadata": {
        "id": "ICnWagSnBv-I",
        "colab": {
          "base_uri": "https://localhost:8080/"
        },
        "outputId": "ba44b277-aecf-4720-e40d-c930dcfa2efe"
      },
      "outputs": [
        {
          "output_type": "execute_result",
          "data": {
            "text/plain": [
              "<tf.Tensor: shape=(5, 5), dtype=int32, numpy=\n",
              "array([[2549,    7,  425,    1,   11],\n",
              "       [  24,  251,    5,   26,   18],\n",
              "       [  66,    1, 2922,    2,    8],\n",
              "       [   0,   24,   25, 1912,   19],\n",
              "       [  19,   24,   46,   39, 2025]], dtype=int32)>"
            ]
          },
          "metadata": {},
          "execution_count": 60
        }
      ],
      "source": [
        "confmatr=tf.math.confusion_matrix(y_test, pred)\n",
        "confmatr"
      ],
      "id": "ICnWagSnBv-I"
    },
    {
      "cell_type": "code",
      "execution_count": null,
      "metadata": {
        "id": "h5-32FcOkzXt"
      },
      "outputs": [],
      "source": [
        "# Matriz de Confusion\n",
        "\n",
        "def custom_confusion_matrix(y_true, y_pred, classes,\n",
        "                          normalize=False,\n",
        "                          title=None,\n",
        "                          plot_size = None,\n",
        "                          cmap=plt.cm.Blues):\n",
        "  \n",
        "    if not title:\n",
        "        if normalize:\n",
        "            title = 'Normalized confusion matrix'\n",
        "        else:\n",
        "            title = 'Confusion matrix, without normalization'\n",
        "\n",
        "    # Compute confusion matrix\n",
        "    cm = confusion_matrix(y_true, y_pred)\n",
        "    # Only use the labels that appear in the data\n",
        "    classes = classes[unique_labels(y_true, y_pred)]\n",
        "\n",
        "    if normalize:\n",
        "        normalize_factor = cm.sum(axis=1)[:, np.newaxis]\n",
        "        cm = cm.astype('float') / normalize_factor\n",
        "        cm = cm*100\n",
        "        print(\"Normalized confusion matrix\")\n",
        "    else:\n",
        "        print('Confusion matrix, without normalization')\n",
        "        cm = np.floor(cm).astype('int')\n",
        "\n",
        "    fig, ax = plt.subplots(figsize=plot_size,  dpi=80)\n",
        "    if normalize:\n",
        "        im = ax.imshow(cm, interpolation='nearest', cmap=cmap, vmin= np.min(cm), vmax= np.max(cm))\n",
        "    else:\n",
        "        im = ax.imshow(cm, interpolation='nearest', cmap=cmap)\n",
        "\n",
        "    ax.figure.colorbar(im, ax=ax)\n",
        "    # We want to show all ticks...\n",
        "    ax.set(xticks=np.arange(cm.shape[1]),\n",
        "           yticks=np.arange(cm.shape[0]),\n",
        "           # ... and label them with the respective list entries\n",
        "           xticklabels=classes, yticklabels=classes,\n",
        "           title=title,\n",
        "           ylabel='True label',\n",
        "           xlabel='Predicted label')\n",
        "\n",
        "    # Rotate the tick labels and set their alignment.\n",
        "    plt.setp(ax.get_xticklabels(), rotation=45, ha=\"right\",\n",
        "             rotation_mode=\"anchor\")\n",
        "\n",
        "    # Loop over data dimensions and create text annotations.\n",
        "    fmt = '.2f' if normalize else 'd'\n",
        "    thresh = (cm.max() - cm.min() ) / 2.  + cm.min()\n",
        "    for i in range(cm.shape[0]):\n",
        "        for j in range(cm.shape[1]):\n",
        "\n",
        "            ax.text(j, i, format(cm[i, j], fmt) + r'$\\%$' ,\n",
        "                    ha=\"center\", va=\"center\",\n",
        "                    color=\"white\" if cm[i, j] > thresh else \"black\")\n",
        "    \n",
        "    fig.tight_layout()\n",
        "    return ax, fig"
      ],
      "id": "h5-32FcOkzXt"
    },
    {
      "cell_type": "code",
      "execution_count": null,
      "metadata": {
        "id": "n75y2HE0lOzp",
        "colab": {
          "base_uri": "https://localhost:8080/",
          "height": 381
        },
        "outputId": "55156eee-4a8e-499a-db45-b15151c60c78"
      },
      "outputs": [
        {
          "output_type": "stream",
          "name": "stdout",
          "text": [
            "Normalized confusion matrix\n"
          ]
        },
        {
          "output_type": "execute_result",
          "data": {
            "text/plain": [
              "(<matplotlib.axes._subplots.AxesSubplot at 0x7fababe8eed0>,\n",
              " <Figure size 480x320 with 2 Axes>)"
            ]
          },
          "metadata": {},
          "execution_count": 62
        },
        {
          "output_type": "display_data",
          "data": {
            "image/png": "[encoded data removed]",
            "text/plain": [
              "<Figure size 480x320 with 2 Axes>"
            ]
          },
          "metadata": {
            "needs_background": "light"
          }
        }
      ],
      "source": [
        "custom_confusion_matrix(y_test, predictions_classes,np.array(['AGN','SN','VS','Asteroids','Bogus']),normalize=True)"
      ],
      "id": "n75y2HE0lOzp"
    },
    {
      "cell_type": "code",
      "execution_count": null,
      "metadata": {
        "id": "AxhQk_d0dE1R",
        "colab": {
          "base_uri": "https://localhost:8080/",
          "height": 856
        },
        "outputId": "c57c68a9-1a90-4950-fe02-cdc45efc9bc3"
      },
      "outputs": [
        {
          "output_type": "stream",
          "name": "stdout",
          "text": [
            "Showing summaries at ./logs\n"
          ]
        },
        {
          "output_type": "display_data",
          "data": {
            "text/plain": [
              "Reusing TensorBoard on port 6006 (pid 600), started 0:19:53 ago. (Use '!kill 600' to kill it.)"
            ]
          },
          "metadata": {}
        },
        {
          "output_type": "display_data",
          "data": {
            "application/javascript": [
              "\n",
              "        (async () => {\n",
              "            const url = new URL(await google.colab.kernel.proxyPort(6006, {'cache': true}));\n",
              "            url.searchParams.set('tensorboardColab', 'true');\n",
              "            const iframe = document.createElement('iframe');\n",
              "            iframe.src = url;\n",
              "            iframe.setAttribute('width', '100%');\n",
              "            iframe.setAttribute('height', '800');\n",
              "            iframe.setAttribute('frameborder', 0);\n",
              "            document.body.appendChild(iframe);\n",
              "        })();\n",
              "    "
            ],
            "text/plain": [
              "<IPython.core.display.Javascript object>"
            ]
          },
          "metadata": {}
        }
      ],
      "source": [
        "LOG_DIR = './logs'\n",
        "print(\"Showing summaries at %s\" % (LOG_DIR))\n",
        "\n",
        "%load_ext tensorboard\n",
        "%tensorboard --logdir='$LOG_DIR'"
      ],
      "id": "AxhQk_d0dE1R"
    },
    {
      "cell_type": "markdown",
      "metadata": {
        "id": "guJFo9zRkZYg"
      },
      "source": [
        "- Juntar dataset imagenes y labels\n",
        "- Hacerle shuffle y separar en train, valid, test\n",
        "- Oversampling y Data Augmentation \n",
        "- Terminar pre-procesamiento metadata (outliers)\n",
        "- Agregar metadata a la red\n",
        "- Probar clasificación 5 clases vs Binaria\n",
        "- Probar red de los papers, y otras famosas vista en clase"
      ],
      "id": "guJFo9zRkZYg"
    },
    {
      "cell_type": "code",
      "execution_count": null,
      "metadata": {
        "id": "tuqw6EruGlfQ"
      },
      "outputs": [],
      "source": [
        "# Se prueba con Data Augmentation para la clase Supernova\n",
        "# https://www.tensorflow.org/tutorials/images/data_augmentation\n",
        "# https://www.tensorflow.org/api_docs/python/tf/keras/preprocessing/image/ImageDataGenerator\n",
        "# https://www.pyimagesearch.com/2021/06/28/data-augmentation-with-tf-data-and-tensorflow/\n",
        "\n"
      ],
      "id": "tuqw6EruGlfQ"
    },
    {
      "cell_type": "code",
      "execution_count": null,
      "metadata": {
        "id": "8UakvEb2Mfv6"
      },
      "outputs": [],
      "source": [
        "# def confusion_matrix(labels, predictions):\n",
        "#     \"\"\"Calcula la matriz de confusion.\n",
        "    \n",
        "#     Args:\n",
        "#         labels: Array binario 1-D con las etiquetas reales.\n",
        "#         predictions: Array binario 1-D con las predicciones.\n",
        "        \n",
        "#     Returns:\n",
        "#         TP: Numero de verdaderos positivos.\n",
        "#         FP: Numero de falsos positivos.\n",
        "#         FN: Numero de falsos negativos.\n",
        "#         TN: Numero de verdaderos negativos.\n",
        "#     \"\"\"\n",
        "#     # Map labels and predictions to {0, 1, 2, 3}\n",
        "#     encoded_data = 2 * labels + predictions  \n",
        "#     TN = np.sum(encoded_data == 0)  # True negatives\n",
        "#     FP = np.sum(encoded_data == 1)  # False positives\n",
        "#     FN = np.sum(encoded_data == 2)  # False negatives\n",
        "#     TP = np.sum(encoded_data == 3)  # True positives\n",
        "#     return TP, FP, FN, TN\n",
        "\n",
        "\n",
        "# def performance_metrics(TP, FP, FN, TN):\n",
        "#     \"\"\"Calcula metricas de desempeño.\n",
        "    \n",
        "#     Args:\n",
        "#         TP: Numero de verdaderos positivos.\n",
        "#         FP: Numero de falsos positivos.\n",
        "#         FN: Numero de falsos negativos.\n",
        "#         TN: Numero de verdaderos negativos.\n",
        "    \n",
        "#     Returns:\n",
        "#         accuracy: Porcentaje de clasificaciones correctas del detector.\n",
        "#         precision: Precision del detector.\n",
        "#         recall: Recall/Sensibilidad del detector.\n",
        "#     \"\"\"\n",
        "#     accuracy = 100.0 * (TP + TN) / (TP + TN + FP + FN)\n",
        "#     precision = 100.0 * TP / (TP + FP)\n",
        "#     recall = 100.0 * TP / (TP + FN)\n",
        "#     print('TP: %d, TN: %d, FP: %d, FN: %d' %(TP,TN,FP,FN))\n",
        "#     print('%1.4f%% Accuracy (Porcentaje de clasificaciones correctas)' % (accuracy))\n",
        "#     print('%1.4f%% Precision' % (precision))\n",
        "#     print('%1.4f%% Recall' % (recall))\n",
        "#     print('')\n",
        "#     return accuracy, precision, recall\n",
        "\n",
        "\n",
        "# def roc_curve(labels, probabilities):\n",
        "#     \"\"\"Calcula la curva ROC.\n",
        "    \n",
        "#     Args:\n",
        "#         labels: Array binario 1-D con las etiquetas reales.\n",
        "#         probabilities: Array 1-D continuo en el rango [0, 1] con las\n",
        "#             probabilidades de la clase 1.\n",
        "        \n",
        "#     Returns:\n",
        "#         tpr: Array 1-D con los valores de Tasa de Verdaderos Positivos (TPR).\n",
        "#         fpr: Array 1-D con los valores de Tasa de Falsos Positivos (FPR).\n",
        "#     \"\"\"\n",
        "#     tpr = []\n",
        "#     fpr = []\n",
        "#     for threshold in np.linspace(0, 1, 1000):\n",
        "#         probabilities_with_threshold = (probabilities > threshold).astype(np.float)\n",
        "#         TP, FP, FN, TN = confusion_matrix(\n",
        "#             labels, \n",
        "#             probabilities_with_threshold)\n",
        "#         tpr.append(TP/(TP+FN))\n",
        "#         fpr.append(FP/(FP+TN))\n",
        "#     return np.array(tpr), np.array(fpr)\n",
        "  \n",
        "\n",
        "# def detection_performance_given_threshold(true_labels, prediction, threshold):\n",
        "#     probabilities_with_threshold = (prediction > threshold).astype(np.float)\n",
        "#     TP, FP, FN, TN = confusion_matrix(\n",
        "#         true_labels, \n",
        "#         probabilities_with_threshold)    \n",
        "#     return TP, FP, FN, TN       \n",
        "\n",
        "  \n",
        "# def plot_confusion_matrix(cm, classes,\n",
        "#                           normalize=False,\n",
        "#                           title='Confusion matrix',\n",
        "#                           cmap=plt.cm.Blues):\n",
        "#     \"\"\"\n",
        "#     This function prints and plots the confusion matrix.\n",
        "#     Normalization can be applied by setting `normalize=True`.\n",
        "#     \"\"\"\n",
        "#     if normalize:\n",
        "#         cm = cm.astype('float') / cm.sum(axis=1)[:, np.newaxis]\n",
        "#         print(\"Normalized confusion matrix\")\n",
        "#     else:\n",
        "#         print('Confusion matrix, without normalization')\n",
        "\n",
        "#     print(cm)\n",
        "#     plt.imshow(cm, interpolation='nearest', cmap=cmap)\n",
        "#     plt.title(title)\n",
        "#     plt.colorbar()\n",
        "#     tick_marks = np.arange(len(classes))\n",
        "#     plt.xticks(tick_marks, classes, rotation=45)\n",
        "#     plt.yticks(tick_marks, classes)\n",
        "\n",
        "#     fmt = '.2f' if normalize else 'd'\n",
        "#     thresh = cm.max() / 2.\n",
        "#     for i, j in itertools.product(range(cm.shape[0]), range(cm.shape[1])):\n",
        "#         plt.text(j, i, format(cm[i, j], fmt),\n",
        "#                  horizontalalignment=\"center\",\n",
        "#                  color=\"white\" if cm[i, j] > thresh else \"black\")\n",
        "\n",
        "#     plt.ylabel('True label')\n",
        "#     plt.xlabel('Predicted label')\n",
        "#     plt.tight_layout()\n",
        "    \n",
        "\n",
        "# predicted_train_labels = mlp.predict_label(training_images)\n",
        "# predicted_val_labels = mlp.predict_label(validation_images)\n",
        "# predicted_test_labels = mlp.predict_label(testing_images)\n",
        "\n",
        "# cnf_matrix = sk_conf_mat(testing_labels, predicted_test_labels)\n",
        "\n",
        "# # Plot non-normalized confusion matrix\n",
        "# plt.figure()\n",
        "# plt.grid('off')\n",
        "# plt.gcf().set_facecolor('white')\n",
        "# plot_confusion_matrix(cnf_matrix, classes=['%d' % chosen_digit, 'no %d' % chosen_digit],\n",
        "#                       title='Confusion matrix')\n",
        "\n",
        "\n",
        "# print('Training results:')\n",
        "# TP, FP, FN, TN = confusion_matrix(training_labels, predicted_train_labels)\n",
        "# accuracy, precision, recall = performance_metrics(TP, FP, FN, TN)\n",
        "\n",
        "# print('Validation results:')\n",
        "# TP, FP, FN, TN = confusion_matrix(validation_labels, predicted_val_labels)\n",
        "# accuracy, precision, recall = performance_metrics(TP, FP, FN, TN)\n",
        "\n",
        "# print('Test results:')\n",
        "# TP, FP, FN, TN = confusion_matrix(testing_labels, predicted_test_labels)\n",
        "# accuracy, precision, recall = performance_metrics(TP, FP, FN, TN)\n",
        "\n",
        "# predicted_test_proba = mlp.predict_proba(testing_images)\n",
        "# tpr, fpr = roc_curve(testing_labels, predicted_test_proba[:, 1])\n",
        "\n",
        "# fig, ax = plt.subplots(1, 2, figsize=(13, 5))\n",
        "# fig.set_facecolor('white')\n",
        "\n",
        "# ax[0].set_title('ROC Curve')\n",
        "# ax[0].plot(fpr, tpr, linewidth=2, alpha=0.5)\n",
        "# ax[0].set_xlabel('False Positive Rate')\n",
        "# ax[0].set_ylabel('True Positive Rate')\n",
        "\n",
        "# ax[1].set_title('DET Curve')\n",
        "# ax[1].plot(fpr, 1.0 - tpr, linewidth=2, alpha=0.5)\n",
        "# ax[1].set_xlabel('False Positive Rate')\n",
        "# ax[1].set_ylabel('False Negative Rate')\n",
        "# ax[1].set_yscale('log')\n",
        "# ax[1].set_xscale('log')"
      ],
      "id": "8UakvEb2Mfv6"
    }
  ],
  "metadata": {
    "accelerator": "GPU",
    "colab": {
      "collapsed_sections": [],
      "name": "ModeloFinal_Proyecto_7DATAAUG1.ipynb",
      "provenance": []
    },
    "kernelspec": {
      "display_name": "Python 3 (ipykernel)",
      "language": "python",
      "name": "python3"
    },
    "language_info": {
      "codemirror_mode": {
        "name": "ipython",
        "version": 3
      },
      "file_extension": ".py",
      "mimetype": "text/x-python",
      "name": "python",
      "nbconvert_exporter": "python",
      "pygments_lexer": "ipython3",
      "version": "3.8.11"
    }
  },
  "nbformat": 4,
  "nbformat_minor": 5
}